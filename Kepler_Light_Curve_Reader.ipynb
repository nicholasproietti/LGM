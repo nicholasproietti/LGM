{
  "cells": [
    {
      "cell_type": "markdown",
      "metadata": {
        "id": "view-in-github",
        "colab_type": "text"
      },
      "source": [
        "<a href=\"https://colab.research.google.com/github/nicholasproietti/LGM/blob/Kepler/Kepler_Light_Curve_Reader.ipynb\" target=\"_parent\"><img src=\"https://colab.research.google.com/assets/colab-badge.svg\" alt=\"Open In Colab\"/></a>"
      ]
    },
    {
      "cell_type": "markdown",
      "source": [
        "# Kepler Light Curve Reader\n",
        "\n",
        "This is the main program used for\n",
        "PHYS 549 to read and work with Kepler light curves."
      ],
      "metadata": {
        "id": "PAnZefEUjIaz"
      }
    },
    {
      "cell_type": "code",
      "execution_count": 1,
      "metadata": {
        "id": "qbKXrKF-dwwB"
      },
      "outputs": [],
      "source": [
        "#%matplotlib notebook\n",
        "from astropy.io import fits\n",
        "from astropy.table import Table \n",
        "import matplotlib.pyplot as plt"
      ]
    },
    {
      "cell_type": "markdown",
      "source": [
        "## Using Kepler data from MAST to plot a light curve\n",
        "\n",
        "[Tutorial Link](https://spacetelescope.github.io/notebooks/notebooks/MAST/Kepler/Kepler_Lightcurve/kepler_lightcurve.html)\n",
        "\n",
        "*Note as of 10/15/22:* We will now use [*lightkurve*](https://docs.lightkurve.org/index.html) for data acquisition of Kepler LCs. "
      ],
      "metadata": {
        "id": "EGyk4A9hjuUt"
      }
    },
    {
      "cell_type": "code",
      "source": [],
      "metadata": {
        "id": "VmYN7WkOz9LW"
      },
      "execution_count": 1,
      "outputs": []
    },
    {
      "cell_type": "code",
      "execution_count": 2,
      "metadata": {
        "id": "vIWBMK-qd5Qi"
      },
      "outputs": [],
      "source": [
        "# Import libraries from astroquery\n",
        "from astroquery.mast import Mast\n",
        "from astroquery.mast import Observations"
      ]
    },
    {
      "cell_type": "code",
      "execution_count": 3,
      "metadata": {
        "id": "SD5-bJ7ieb0K",
        "colab": {
          "base_uri": "https://localhost:8080/",
          "height": 173
        },
        "outputId": "38ef8383-1543-4d87-d52e-dbc1c7c57b20"
      },
      "outputs": [
        {
          "output_type": "execute_result",
          "data": {
            "text/plain": [
              "<Table masked=True length=1>\n",
              "obsID  obs_collection dataproduct_type ... parent_obsid dataRights calib_level\n",
              " str6       str6           str10       ...     str6        str6       int64   \n",
              "------ -------------- ---------------- ... ------------ ---------- -----------\n",
              "601031         Kepler       timeseries ...       601031     PUBLIC           2"
            ],
            "text/html": [
              "<div><i>Table masked=True length=1</i>\n",
              "<table id=\"table140621142202704\" class=\"table-striped table-bordered table-condensed\">\n",
              "<thead><tr><th>obsID</th><th>obs_collection</th><th>dataproduct_type</th><th>obs_id</th><th>description</th><th>type</th><th>dataURI</th><th>productType</th><th>productGroupDescription</th><th>productSubGroupDescription</th><th>productDocumentationURL</th><th>project</th><th>prvversion</th><th>proposal_id</th><th>productFilename</th><th>size</th><th>parent_obsid</th><th>dataRights</th><th>calib_level</th></tr></thead>\n",
              "<thead><tr><th>str6</th><th>str6</th><th>str10</th><th>str36</th><th>str60</th><th>str1</th><th>str110</th><th>str7</th><th>str28</th><th>str8</th><th>str1</th><th>str6</th><th>str1</th><th>str7</th><th>str44</th><th>int64</th><th>str6</th><th>str6</th><th>int64</th></tr></thead>\n",
              "<tr><td>601031</td><td>Kepler</td><td>timeseries</td><td>kplr011446443_sc_Q113313330333033302</td><td>Lightcurve Short Cadence (CSC) - Q0</td><td>C</td><td>mast:KEPLER/url/missions/kepler/lightcurves/0114/011446443/kplr011446443-2009131110544_slc.fits</td><td>SCIENCE</td><td>Minimum Recommended Products</td><td>SLC</td><td>--</td><td>Kepler</td><td>--</td><td>EX_STKS</td><td>kplr011446443-2009131110544_slc.fits</td><td>1457280</td><td>601031</td><td>PUBLIC</td><td>2</td></tr>\n",
              "</table></div>"
            ]
          },
          "metadata": {},
          "execution_count": 3
        }
      ],
      "source": [
        "# Search MAST portal for data of a particular Kepler target (target name, spacecraft)\n",
        "\n",
        "keplerObs = Observations.query_criteria(target_name='kplr011446443', obs_collection='Kepler')\n",
        "keplerProds = Observations.get_product_list(keplerObs[1])\n",
        "yourProd = Observations.filter_products(keplerProds, extension='kplr011446443-2009131110544_slc.fits', \n",
        "                                        mrp_only=False)\n",
        "yourProd\n",
        "\n"
      ]
    },
    {
      "cell_type": "code",
      "execution_count": 4,
      "metadata": {
        "id": "WGrSOtPuekg5",
        "colab": {
          "base_uri": "https://localhost:8080/",
          "height": 138
        },
        "outputId": "d35b5b59-9b70-4205-dc27-5cbc362f82ce"
      },
      "outputs": [
        {
          "output_type": "stream",
          "name": "stdout",
          "text": [
            "Downloading URL https://mast.stsci.edu/api/v0.1/Download/file?uri=mast:KEPLER/url/missions/kepler/lightcurves/0114/011446443/kplr011446443-2009131110544_slc.fits to ./mastDownload/Kepler/kplr011446443_sc_Q113313330333033302/kplr011446443-2009131110544_slc.fits ... [Done]\n"
          ]
        },
        {
          "output_type": "execute_result",
          "data": {
            "text/plain": [
              "<Table length=1>\n",
              "                                           Local Path                                           ...\n",
              "                                             str95                                              ...\n",
              "----------------------------------------------------------------------------------------------- ...\n",
              "./mastDownload/Kepler/kplr011446443_sc_Q113313330333033302/kplr011446443-2009131110544_slc.fits ..."
            ],
            "text/html": [
              "<div><i>Table length=1</i>\n",
              "<table id=\"table140621143058640\" class=\"table-striped table-bordered table-condensed\">\n",
              "<thead><tr><th>Local Path</th><th>Status</th><th>Message</th><th>URL</th></tr></thead>\n",
              "<thead><tr><th>str95</th><th>str8</th><th>object</th><th>object</th></tr></thead>\n",
              "<tr><td>./mastDownload/Kepler/kplr011446443_sc_Q113313330333033302/kplr011446443-2009131110544_slc.fits</td><td>COMPLETE</td><td>None</td><td>None</td></tr>\n",
              "</table></div>"
            ]
          },
          "metadata": {},
          "execution_count": 4
        }
      ],
      "source": [
        "# Download the data file\n",
        "\n",
        "Observations.download_products(yourProd, mrp_only = False, cache = False) "
      ]
    },
    {
      "cell_type": "code",
      "execution_count": 5,
      "metadata": {
        "id": "BW9DE751el-I",
        "colab": {
          "base_uri": "https://localhost:8080/"
        },
        "outputId": "e47262dd-f8cb-4171-e36d-e45b006a3571"
      },
      "outputs": [
        {
          "output_type": "stream",
          "name": "stdout",
          "text": [
            "Filename: ./mastDownload/Kepler/kplr011446443_sc_Q113313330333033302/kplr011446443-2009131110544_slc.fits\n",
            "No.    Name      Ver    Type      Cards   Dimensions   Format\n",
            "  0  PRIMARY       1 PrimaryHDU      58   ()      \n",
            "  1  LIGHTCURVE    1 BinTableHDU    155   14280R x 20C   [D, E, J, E, E, E, E, E, E, J, D, E, D, E, D, E, D, E, E, E]   \n",
            "  2  APERTURE      1 ImageHDU        48   (8, 9)   int32   \n"
          ]
        }
      ],
      "source": [
        "# See some information about the FITS Header Data Units:\n",
        "\n",
        "filename = \"./mastDownload/Kepler/kplr011446443_sc_Q113313330333033302/kplr011446443-2009131110544_slc.fits\"\n",
        "fits.info(filename)\n",
        "\n"
      ]
    },
    {
      "cell_type": "code",
      "execution_count": 6,
      "metadata": {
        "id": "0cwAPeRcevhR",
        "colab": {
          "base_uri": "https://localhost:8080/"
        },
        "outputId": "549a218f-f747-44d3-8eb9-87e541094653"
      },
      "outputs": [
        {
          "output_type": "stream",
          "name": "stdout",
          "text": [
            "XTENSION= 'BINTABLE'           / marks the beginning of a new HDU               \n",
            "BITPIX  =                    8 / array data type                                \n",
            "NAXIS   =                    2 / number of array dimensions                     \n",
            "NAXIS1  =                  100 / length of first array dimension                \n",
            "NAXIS2  =                14280 / length of second array dimension               \n",
            "PCOUNT  =                    0 / group parameter count (not used)               \n",
            "GCOUNT  =                    1 / group count (not used)                         \n",
            "TFIELDS =                   20 / number of table fields                         \n",
            "TTYPE1  = 'TIME    '           / column title: data time stamps                 \n",
            "TFORM1  = 'D       '           / column format: 64-bit floating point           \n",
            "TUNIT1  = 'BJD - 2454833'      / column units: barycenter corrected JD          \n",
            "TDISP1  = 'D14.7   '           / column display format                          \n",
            "TTYPE2  = 'TIMECORR'           / column title: barycenter - timeslice correction\n",
            "TFORM2  = 'E       '           / column format: 32-bit floating point           \n",
            "TUNIT2  = 'd       '           / column units: day                              \n",
            "TDISP2  = 'E13.6   '           / column display format                          \n",
            "TTYPE3  = 'CADENCENO'          / column title: unique cadence number            \n",
            "TFORM3  = 'J       '           / column format: signed 32-bit integer           \n",
            "TDISP3  = 'I10     '           / column display format                          \n",
            "TTYPE4  = 'SAP_FLUX'           / column title: aperture photometry flux         \n",
            "TFORM4  = 'E       '           / column format: 32-bit floating point           \n",
            "TUNIT4  = 'e-/s    '           / column units: electrons per second             \n",
            "TDISP4  = 'E14.7   '           / column display format                          \n",
            "TTYPE5  = 'SAP_FLUX_ERR'       / column title: aperture phot. flux error        \n"
          ]
        }
      ],
      "source": [
        "# Opens the FITS file, writes the first HDU extension into header1, and then closes the file\n",
        "\n",
        "with fits.open(filename) as hdulist: \n",
        "    header1 = hdulist[1].header\n",
        "  \n",
        "print(repr(header1[0:24])) #repr() prints the info into neat columns"
      ]
    },
    {
      "cell_type": "code",
      "execution_count": 7,
      "metadata": {
        "id": "yIRsAXy9ewyw",
        "colab": {
          "base_uri": "https://localhost:8080/",
          "height": 185
        },
        "outputId": "f17a3cd7-3a73-4260-efb9-69ac3acf4129"
      },
      "outputs": [
        {
          "output_type": "execute_result",
          "data": {
            "text/plain": [
              "<Table length=4>\n",
              "       TIME           TIMECORR   CADENCENO ...   POS_CORR1     POS_CORR2  \n",
              "     float64          float32      int32   ...    float32       float32   \n",
              "------------------ ------------- --------- ... ------------- -------------\n",
              "120.52992386784899 0.00096672785      5501 ...  0.0002031729 -0.0025746305\n",
              "120.53060508973431 0.00096674974      5502 ... 0.00021144762 -0.0025837936\n",
              "120.53128621167707  0.0009667717      5503 ... 0.00021972114 -0.0025929555\n",
              "120.53196743356966 0.00096679357      5504 ... 0.00022799587 -0.0026021185"
            ],
            "text/html": [
              "<div><i>Table length=4</i>\n",
              "<table id=\"table140621134892048\" class=\"table-striped table-bordered table-condensed\">\n",
              "<thead><tr><th>TIME</th><th>TIMECORR</th><th>CADENCENO</th><th>SAP_FLUX</th><th>SAP_FLUX_ERR</th><th>SAP_BKG</th><th>SAP_BKG_ERR</th><th>PDCSAP_FLUX</th><th>PDCSAP_FLUX_ERR</th><th>SAP_QUALITY</th><th>PSF_CENTR1</th><th>PSF_CENTR1_ERR</th><th>PSF_CENTR2</th><th>PSF_CENTR2_ERR</th><th>MOM_CENTR1</th><th>MOM_CENTR1_ERR</th><th>MOM_CENTR2</th><th>MOM_CENTR2_ERR</th><th>POS_CORR1</th><th>POS_CORR2</th></tr></thead>\n",
              "<thead><tr><th>float64</th><th>float32</th><th>int32</th><th>float32</th><th>float32</th><th>float32</th><th>float32</th><th>float32</th><th>float32</th><th>int32</th><th>float64</th><th>float32</th><th>float64</th><th>float32</th><th>float64</th><th>float32</th><th>float64</th><th>float32</th><th>float32</th><th>float32</th></tr></thead>\n",
              "<tr><td>120.52992386784899</td><td>0.00096672785</td><td>5501</td><td>401288.16</td><td>91.51187</td><td>2598.1086</td><td>0.5752603</td><td>406100.9</td><td>127.528824</td><td>0</td><td>nan</td><td>nan</td><td>nan</td><td>nan</td><td>621.2181187542091</td><td>0.0002101067</td><td>848.8972881655714</td><td>0.00029125414</td><td>0.0002031729</td><td>-0.0025746305</td></tr>\n",
              "<tr><td>120.53060508973431</td><td>0.00096674974</td><td>5502</td><td>401425.53</td><td>91.53448</td><td>2598.0261</td><td>0.57525027</td><td>406242.22</td><td>125.212105</td><td>0</td><td>nan</td><td>nan</td><td>nan</td><td>nan</td><td>621.2190207168474</td><td>0.00021018942</td><td>848.8935790650855</td><td>0.0002912894</td><td>0.00021144762</td><td>-0.0025837936</td></tr>\n",
              "<tr><td>120.53128621167707</td><td>0.0009667717</td><td>5503</td><td>401172.0</td><td>91.517265</td><td>2597.9438</td><td>0.5752402</td><td>405984.03</td><td>123.31339</td><td>0</td><td>nan</td><td>nan</td><td>nan</td><td>nan</td><td>621.2179228162092</td><td>0.00021032244</td><td>848.894852260174</td><td>0.0002914222</td><td>0.00021972114</td><td>-0.0025929555</td></tr>\n",
              "<tr><td>120.53196743356966</td><td>0.00096679357</td><td>5504</td><td>401473.62</td><td>91.53064</td><td>2597.8613</td><td>0.5752302</td><td>406293.0</td><td>121.84987</td><td>0</td><td>nan</td><td>nan</td><td>nan</td><td>nan</td><td>621.2198263101714</td><td>0.00021020704</td><td>848.8961790332079</td><td>0.00029115527</td><td>0.00022799587</td><td>-0.0026021185</td></tr>\n",
              "</table></div>"
            ]
          },
          "metadata": {},
          "execution_count": 7
        }
      ],
      "source": [
        "# View a table of the data from the Binary Table extension. This is where we can find the flux and time columns to be plotted later.\n",
        "\n",
        "with fits.open(filename) as hdulist:\n",
        "    binaryext = hdulist[1].data\n",
        "\n",
        "binarytable = Table(binaryext)\n",
        "binarytable[1:5]"
      ]
    },
    {
      "cell_type": "code",
      "execution_count": 8,
      "metadata": {
        "id": "8m0K_kbLe5fU"
      },
      "outputs": [],
      "source": [
        "# Convert the time to Barycentric Julian Days and read relevant LC data\n",
        "\n",
        "with fits.open(filename, mode=\"readonly\") as hdulist:\n",
        "    # Read in the \"BJDREF\" which is the time offset of the time array.\n",
        "    bjdrefi = hdulist[1].header['BJDREFI'] \n",
        "    bjdreff = hdulist[1].header['BJDREFF']\n",
        "\n",
        "    # Read in the columns of data.\n",
        "    times = hdulist[1].data['time'] \n",
        "    sap_fluxes = hdulist[1].data['SAP_FLUX']\n",
        "    pdcsap_fluxes = hdulist[1].data['PDCSAP_FLUX']"
      ]
    },
    {
      "cell_type": "code",
      "execution_count": 9,
      "metadata": {
        "id": "DgETieoDe6it",
        "colab": {
          "base_uri": "https://localhost:8080/",
          "height": 295
        },
        "outputId": "aef3a757-8e47-4fa2-9f68-da56d133367d"
      },
      "outputs": [
        {
          "output_type": "display_data",
          "data": {
            "text/plain": [
              "<Figure size 648x288 with 1 Axes>"
            ],
            "image/png": "[encoded data removed]"
          },
          "metadata": {
            "needs_background": "light"
          }
        }
      ],
      "source": [
        "# Convert the time array to full BJD by adding the offset back in.\n",
        "bjds = times + bjdrefi + bjdreff \n",
        "\n",
        "plt.figure(figsize=(9,4))\n",
        "\n",
        "# Plot the time, uncorrected and corrected fluxes.\n",
        "plt.plot(bjds, sap_fluxes, '-b', label='SAP Flux') \n",
        "plt.plot(bjds, pdcsap_fluxes, '-c', label='PDCSAP Flux') \n",
        "\n",
        "plt.title('Kepler Light Curve')\n",
        "plt.legend()\n",
        "plt.xlabel('Time (days)')\n",
        "plt.ylabel('Flux (electrons/second)')\n",
        "plt.savefig('sample_LCs.png')"
      ]
    },
    {
      "cell_type": "markdown",
      "source": [
        "## Using the *lightkurve* package to load and plot a Kepler LC\n",
        "\n",
        "Tutorial Link: https://docs.lightkurve.org/quickstart.html"
      ],
      "metadata": {
        "id": "Be7ldHQMj5xt"
      }
    },
    {
      "cell_type": "code",
      "execution_count": 10,
      "metadata": {
        "id": "N3hZaSjsNEFS",
        "colab": {
          "base_uri": "https://localhost:8080/"
        },
        "outputId": "63469ce7-4db1-4b46-8e2f-39aea61ded7b"
      },
      "outputs": [
        {
          "output_type": "stream",
          "name": "stdout",
          "text": [
            "4725\n"
          ]
        }
      ],
      "source": [
        "# Read Kepler Object of Interest Table and drop FALSE POSITIVES\n",
        "\n",
        "import pandas as pd\n",
        "from io import StringIO\n",
        "\n",
        "df_koi = pd.read_csv('KOI.csv')\n",
        "df_koi_set = df_koi[df_koi['koi_disposition'] != 'FALSE POSITIVE'] # 4725 rows\n",
        "print(len(df_koi_set))"
      ]
    },
    {
      "cell_type": "code",
      "source": [
        "from lightkurve import search_targetpixelfile\n",
        "\n",
        "example_KIC = \"10811496\"\n",
        "\n",
        "# obtain the Kepler pixel data for the star from the data archive\n",
        "pixelfile = search_targetpixelfile(\"KIC \"+example_KIC, quarter=16).download();"
      ],
      "metadata": {
        "id": "Sgi6v7MxESib"
      },
      "execution_count": 22,
      "outputs": []
    },
    {
      "cell_type": "code",
      "source": [
        "# Display the first image in this data set \n",
        "\n",
        "pixelfile.plot(frame=1);"
      ],
      "metadata": {
        "id": "-e0X3l2djZX_",
        "colab": {
          "base_uri": "https://localhost:8080/",
          "height": 420
        },
        "outputId": "96b2a98c-8c27-4fbd-b7d6-23dfbc616564"
      },
      "execution_count": 12,
      "outputs": [
        {
          "output_type": "display_data",
          "data": {
            "text/plain": [
              "<Figure size 848.5x400 with 2 Axes>"
            ],
            "image/png": "[encoded data removed]"
          },
          "metadata": {}
        }
      ]
    },
    {
      "cell_type": "code",
      "source": [
        "# The star is an isolated object,  so we can extract a light curve by simply\n",
        "# summing up all the pixel values in each image:\n",
        "lc = pixelfile.to_lightcurve(aperture_mask='all');\n",
        "lc.time # in BJDs\n",
        "lc.flux # number of photons received by spacecraft, converted to current (e-/sec)\n",
        "lc.plot(); \n",
        "\n"
      ],
      "metadata": {
        "id": "sZ5q81-bjcPg",
        "colab": {
          "base_uri": "https://localhost:8080/",
          "height": 387
        },
        "outputId": "c27a1319-25ab-40d9-e290-8c3b5264b669"
      },
      "execution_count": 13,
      "outputs": [
        {
          "output_type": "display_data",
          "data": {
            "text/plain": [
              "<Figure size 848.5x400 with 1 Axes>"
            ],
            "image/png": "[encoded data removed]"
          },
          "metadata": {}
        }
      ]
    },
    {
      "cell_type": "code",
      "source": [
        "print(\"Number of flux data points in \"+example_KIC+\": \"+str(len(lc.flux)))"
      ],
      "metadata": {
        "id": "l4Ws-QB_6Z5R",
        "colab": {
          "base_uri": "https://localhost:8080/"
        },
        "outputId": "a8ef628c-5f3d-42a4-8dab-c1423366d31d"
      },
      "execution_count": 14,
      "outputs": [
        {
          "output_type": "stream",
          "name": "stdout",
          "text": [
            "Number of flux data points in 10811496: 3540\n"
          ]
        }
      ]
    },
    {
      "cell_type": "markdown",
      "source": [
        "## Working with Kepler Light Curve Data from Kepler Object of Interest (KOI) Table\n",
        "\n",
        "\n",
        "\n",
        "[Link to KOI data columns dictionary](https://exoplanetarchive.ipac.caltech.edu/docs/API_kepcandidate_columns.html)"
      ],
      "metadata": {
        "id": "-XDnYMZjkZjF"
      }
    },
    {
      "cell_type": "markdown",
      "source": [
        "### Estimate exoplanet radii using neural network regression\n",
        "\n",
        "Notes:\n",
        "\n",
        "*   **X**: The input data\n",
        "  *   `koi_period` = orbital period (days)\n",
        "  *   `koi_time0bk` = transit epoch, or the time corresponding to the center of the first detected transit in Barycentric Julian Day (BJD) minus a constant offset of 2,454,833.0 days\n",
        "  *   `koi_impact` = impact parameter\n",
        "  *   `koi_duration` = duration (hours)\n",
        "  *   `koi_depth` = depth (parts per million)\n",
        "  *   planet mass\n",
        "*   **Y**: The target values (radii)\n",
        "\n",
        "[link to sklearn regression documentation](https://scikit-learn.org/stable/modules/generated/sklearn.neural_network.MLPRegressor.html#sklearn.neural_network.MLPRegressor)\n",
        "\n",
        "[link to KOI data columns dictionary](https://exoplanetarchive.ipac.caltech.edu/docs/API_kepcandidate_columns.html)\n"
      ],
      "metadata": {
        "id": "O7PAkjQKG4Dt"
      }
    },
    {
      "cell_type": "markdown",
      "source": [
        "Import the necessary libraries\n"
      ],
      "metadata": {
        "id": "sqY8T8fMSsGg"
      }
    },
    {
      "cell_type": "code",
      "source": [
        "import numpy as np\n",
        "import matplotlib.pyplot as plt\n",
        "import pandas as pd\n",
        "from sklearn import neural_network\n",
        "from sklearn.model_selection import train_test_split\n",
        "import matplotlib.pyplot as plt\n",
        "import numpy as np\n",
        "import sys"
      ],
      "metadata": {
        "id": "uJLb1gGJSsf7"
      },
      "execution_count": 15,
      "outputs": []
    },
    {
      "cell_type": "markdown",
      "source": [
        "From the KOI table, we  filter all non-`CONFIRMED` rows to extract input parameters and known exoplanet radii.\n",
        "<br/>\n",
        "<br/>\n",
        "\n",
        "The planet mass is calculated by multiplying,\n",
        "<br/>\n",
        "$g_{*}R_{*}^2$\n",
        "<br/>\n",
        "where $g_{*}$ is the stellar surface gravity and $R_{*}$ is the stellar radius.\n",
        "<br/>\n",
        "<br/>\n",
        "\n",
        "We split the data 50% **training**, 25% **testing**, and 25% **validation**."
      ],
      "metadata": {
        "id": "r6P8GUWzTVPT"
      }
    },
    {
      "cell_type": "code",
      "source": [
        "# KOI filtering \n",
        "KOI = pd.read_csv('KOI.csv')\n",
        "KOI_confirmed = KOI.drop(KOI[KOI['koi_disposition']!='CONFIRMED'].index)\n",
        "\n",
        "# planet mass calculation\n",
        "mass = KOI_confirmed['koi_slogg'].mul(KOI_confirmed['koi_srad'].mul(KOI_confirmed['koi_srad']))\n",
        "\n",
        "# extract input parameters and split the dat\n",
        "x = KOI_confirmed[['koi_period','koi_time0bk','koi_impact','koi_duration','koi_depth']]\n",
        "x.loc[:,'mass'] = pd.Series(np.random.randn(len(x)), index=x.index)\n",
        "x.loc[:, 'mass'] = mass\n",
        "y = KOI_confirmed[['koi_prad']]\n",
        "x = x.fillna(0)\n",
        "y = y.fillna(0)\n",
        "from sklearn import preprocessing\n",
        "x_scaled = preprocessing.scale(x)\n",
        "x_train, x_test, y_train, y_test = train_test_split(x_scaled[1:6000], y[1:6000], train_size=0.5, test_size=0.25)"
      ],
      "metadata": {
        "id": "2Q-50FaBmube",
        "colab": {
          "base_uri": "https://localhost:8080/"
        },
        "outputId": "bb5039bc-fdff-454c-ec7a-0df8c2955c3d"
      },
      "execution_count": 16,
      "outputs": [
        {
          "output_type": "stream",
          "name": "stderr",
          "text": [
            "/usr/local/lib/python3.7/dist-packages/pandas/core/indexing.py:1667: SettingWithCopyWarning: \n",
            "A value is trying to be set on a copy of a slice from a DataFrame.\n",
            "Try using .loc[row_indexer,col_indexer] = value instead\n",
            "\n",
            "See the caveats in the documentation: https://pandas.pydata.org/pandas-docs/stable/user_guide/indexing.html#returning-a-view-versus-a-copy\n",
            "  self.obj[key] = value\n",
            "/usr/local/lib/python3.7/dist-packages/pandas/core/indexing.py:1773: SettingWithCopyWarning: \n",
            "A value is trying to be set on a copy of a slice from a DataFrame.\n",
            "Try using .loc[row_indexer,col_indexer] = value instead\n",
            "\n",
            "See the caveats in the documentation: https://pandas.pydata.org/pandas-docs/stable/user_guide/indexing.html#returning-a-view-versus-a-copy\n",
            "  self._setitem_single_column(ilocs[0], value, pi)\n"
          ]
        }
      ]
    },
    {
      "cell_type": "markdown",
      "source": [
        "View the inputs"
      ],
      "metadata": {
        "id": "M-wWGXCmYBxs"
      }
    },
    {
      "cell_type": "code",
      "source": [
        "x"
      ],
      "metadata": {
        "colab": {
          "base_uri": "https://localhost:8080/",
          "height": 423
        },
        "id": "6ySKq7K9R_Mx",
        "outputId": "5fec2f08-8e47-437d-96a8-c98c3530194c"
      },
      "execution_count": 17,
      "outputs": [
        {
          "output_type": "execute_result",
          "data": {
            "text/plain": [
              "      koi_period  koi_time0bk  koi_impact  koi_duration  koi_depth      mass\n",
              "0       9.488036    170.53875       0.146        2.9575      615.8  3.838623\n",
              "1      54.418383    162.51384       0.586        4.5070      874.8  3.838623\n",
              "4       2.525592    171.59555       0.701        1.6545      603.3  4.855687\n",
              "5      11.094321    171.20116       0.538        4.5945     1517.5  4.238301\n",
              "6       4.134435    172.97937       0.762        3.1402      686.0  4.238301\n",
              "...          ...          ...         ...           ...        ...       ...\n",
              "8057   10.692115    141.11600       0.734        4.6570      408.4  6.649993\n",
              "8817    4.485592    135.43172       0.442        0.8161     2265.0  0.189858\n",
              "8956    8.152759    134.19046       0.461        1.7460    16536.0  0.182641\n",
              "9014  384.847556    314.97000       0.059        9.9690      189.9  2.916562\n",
              "9083    3.875943    134.84758       0.025        2.3140       58.6  3.621216\n",
              "\n",
              "[2669 rows x 6 columns]"
            ],
            "text/html": [
              "\n",
              "  <div id=\"df-dd951ffa-c918-45e8-b4c8-54775a6e6303\">\n",
              "    <div class=\"colab-df-container\">\n",
              "      <div>\n",
              "<style scoped>\n",
              "    .dataframe tbody tr th:only-of-type {\n",
              "        vertical-align: middle;\n",
              "    }\n",
              "\n",
              "    .dataframe tbody tr th {\n",
              "        vertical-align: top;\n",
              "    }\n",
              "\n",
              "    .dataframe thead th {\n",
              "        text-align: right;\n",
              "    }\n",
              "</style>\n",
              "<table border=\"1\" class=\"dataframe\">\n",
              "  <thead>\n",
              "    <tr style=\"text-align: right;\">\n",
              "      <th></th>\n",
              "      <th>koi_period</th>\n",
              "      <th>koi_time0bk</th>\n",
              "      <th>koi_impact</th>\n",
              "      <th>koi_duration</th>\n",
              "      <th>koi_depth</th>\n",
              "      <th>mass</th>\n",
              "    </tr>\n",
              "  </thead>\n",
              "  <tbody>\n",
              "    <tr>\n",
              "      <th>0</th>\n",
              "      <td>9.488036</td>\n",
              "      <td>170.53875</td>\n",
              "      <td>0.146</td>\n",
              "      <td>2.9575</td>\n",
              "      <td>615.8</td>\n",
              "      <td>3.838623</td>\n",
              "    </tr>\n",
              "    <tr>\n",
              "      <th>1</th>\n",
              "      <td>54.418383</td>\n",
              "      <td>162.51384</td>\n",
              "      <td>0.586</td>\n",
              "      <td>4.5070</td>\n",
              "      <td>874.8</td>\n",
              "      <td>3.838623</td>\n",
              "    </tr>\n",
              "    <tr>\n",
              "      <th>4</th>\n",
              "      <td>2.525592</td>\n",
              "      <td>171.59555</td>\n",
              "      <td>0.701</td>\n",
              "      <td>1.6545</td>\n",
              "      <td>603.3</td>\n",
              "      <td>4.855687</td>\n",
              "    </tr>\n",
              "    <tr>\n",
              "      <th>5</th>\n",
              "      <td>11.094321</td>\n",
              "      <td>171.20116</td>\n",
              "      <td>0.538</td>\n",
              "      <td>4.5945</td>\n",
              "      <td>1517.5</td>\n",
              "      <td>4.238301</td>\n",
              "    </tr>\n",
              "    <tr>\n",
              "      <th>6</th>\n",
              "      <td>4.134435</td>\n",
              "      <td>172.97937</td>\n",
              "      <td>0.762</td>\n",
              "      <td>3.1402</td>\n",
              "      <td>686.0</td>\n",
              "      <td>4.238301</td>\n",
              "    </tr>\n",
              "    <tr>\n",
              "      <th>...</th>\n",
              "      <td>...</td>\n",
              "      <td>...</td>\n",
              "      <td>...</td>\n",
              "      <td>...</td>\n",
              "      <td>...</td>\n",
              "      <td>...</td>\n",
              "    </tr>\n",
              "    <tr>\n",
              "      <th>8057</th>\n",
              "      <td>10.692115</td>\n",
              "      <td>141.11600</td>\n",
              "      <td>0.734</td>\n",
              "      <td>4.6570</td>\n",
              "      <td>408.4</td>\n",
              "      <td>6.649993</td>\n",
              "    </tr>\n",
              "    <tr>\n",
              "      <th>8817</th>\n",
              "      <td>4.485592</td>\n",
              "      <td>135.43172</td>\n",
              "      <td>0.442</td>\n",
              "      <td>0.8161</td>\n",
              "      <td>2265.0</td>\n",
              "      <td>0.189858</td>\n",
              "    </tr>\n",
              "    <tr>\n",
              "      <th>8956</th>\n",
              "      <td>8.152759</td>\n",
              "      <td>134.19046</td>\n",
              "      <td>0.461</td>\n",
              "      <td>1.7460</td>\n",
              "      <td>16536.0</td>\n",
              "      <td>0.182641</td>\n",
              "    </tr>\n",
              "    <tr>\n",
              "      <th>9014</th>\n",
              "      <td>384.847556</td>\n",
              "      <td>314.97000</td>\n",
              "      <td>0.059</td>\n",
              "      <td>9.9690</td>\n",
              "      <td>189.9</td>\n",
              "      <td>2.916562</td>\n",
              "    </tr>\n",
              "    <tr>\n",
              "      <th>9083</th>\n",
              "      <td>3.875943</td>\n",
              "      <td>134.84758</td>\n",
              "      <td>0.025</td>\n",
              "      <td>2.3140</td>\n",
              "      <td>58.6</td>\n",
              "      <td>3.621216</td>\n",
              "    </tr>\n",
              "  </tbody>\n",
              "</table>\n",
              "<p>2669 rows × 6 columns</p>\n",
              "</div>\n",
              "      <button class=\"colab-df-convert\" onclick=\"convertToInteractive('df-dd951ffa-c918-45e8-b4c8-54775a6e6303')\"\n",
              "              title=\"Convert this dataframe to an interactive table.\"\n",
              "              style=\"display:none;\">\n",
              "        \n",
              "  <svg xmlns=\"http://www.w3.org/2000/svg\" height=\"24px\"viewBox=\"0 0 24 24\"\n",
              "       width=\"24px\">\n",
              "    <path d=\"M0 0h24v24H0V0z\" fill=\"none\"/>\n",
              "    <path d=\"M18.56 5.44l.94 2.06.94-2.06 2.06-.94-2.06-.94-.94-2.06-.94 2.06-2.06.94zm-11 1L8.5 8.5l.94-2.06 2.06-.94-2.06-.94L8.5 2.5l-.94 2.06-2.06.94zm10 10l.94 2.06.94-2.06 2.06-.94-2.06-.94-.94-2.06-.94 2.06-2.06.94z\"/><path d=\"M17.41 7.96l-1.37-1.37c-.4-.4-.92-.59-1.43-.59-.52 0-1.04.2-1.43.59L10.3 9.45l-7.72 7.72c-.78.78-.78 2.05 0 2.83L4 21.41c.39.39.9.59 1.41.59.51 0 1.02-.2 1.41-.59l7.78-7.78 2.81-2.81c.8-.78.8-2.07 0-2.86zM5.41 20L4 18.59l7.72-7.72 1.47 1.35L5.41 20z\"/>\n",
              "  </svg>\n",
              "      </button>\n",
              "      \n",
              "  <style>\n",
              "    .colab-df-container {\n",
              "      display:flex;\n",
              "      flex-wrap:wrap;\n",
              "      gap: 12px;\n",
              "    }\n",
              "\n",
              "    .colab-df-convert {\n",
              "      background-color: #E8F0FE;\n",
              "      border: none;\n",
              "      border-radius: 50%;\n",
              "      cursor: pointer;\n",
              "      display: none;\n",
              "      fill: #1967D2;\n",
              "      height: 32px;\n",
              "      padding: 0 0 0 0;\n",
              "      width: 32px;\n",
              "    }\n",
              "\n",
              "    .colab-df-convert:hover {\n",
              "      background-color: #E2EBFA;\n",
              "      box-shadow: 0px 1px 2px rgba(60, 64, 67, 0.3), 0px 1px 3px 1px rgba(60, 64, 67, 0.15);\n",
              "      fill: #174EA6;\n",
              "    }\n",
              "\n",
              "    [theme=dark] .colab-df-convert {\n",
              "      background-color: #3B4455;\n",
              "      fill: #D2E3FC;\n",
              "    }\n",
              "\n",
              "    [theme=dark] .colab-df-convert:hover {\n",
              "      background-color: #434B5C;\n",
              "      box-shadow: 0px 1px 3px 1px rgba(0, 0, 0, 0.15);\n",
              "      filter: drop-shadow(0px 1px 2px rgba(0, 0, 0, 0.3));\n",
              "      fill: #FFFFFF;\n",
              "    }\n",
              "  </style>\n",
              "\n",
              "      <script>\n",
              "        const buttonEl =\n",
              "          document.querySelector('#df-dd951ffa-c918-45e8-b4c8-54775a6e6303 button.colab-df-convert');\n",
              "        buttonEl.style.display =\n",
              "          google.colab.kernel.accessAllowed ? 'block' : 'none';\n",
              "\n",
              "        async function convertToInteractive(key) {\n",
              "          const element = document.querySelector('#df-dd951ffa-c918-45e8-b4c8-54775a6e6303');\n",
              "          const dataTable =\n",
              "            await google.colab.kernel.invokeFunction('convertToInteractive',\n",
              "                                                     [key], {});\n",
              "          if (!dataTable) return;\n",
              "\n",
              "          const docLinkHtml = 'Like what you see? Visit the ' +\n",
              "            '<a target=\"_blank\" href=https://colab.research.google.com/notebooks/data_table.ipynb>data table notebook</a>'\n",
              "            + ' to learn more about interactive tables.';\n",
              "          element.innerHTML = '';\n",
              "          dataTable['output_type'] = 'display_data';\n",
              "          await google.colab.output.renderOutput(dataTable, element);\n",
              "          const docLink = document.createElement('div');\n",
              "          docLink.innerHTML = docLinkHtml;\n",
              "          element.appendChild(docLink);\n",
              "        }\n",
              "      </script>\n",
              "    </div>\n",
              "  </div>\n",
              "  "
            ]
          },
          "metadata": {},
          "execution_count": 17
        }
      ]
    },
    {
      "cell_type": "markdown",
      "source": [
        "View the outputs"
      ],
      "metadata": {
        "id": "lMvCyQeNYP1s"
      }
    },
    {
      "cell_type": "code",
      "source": [
        "y\n"
      ],
      "metadata": {
        "colab": {
          "base_uri": "https://localhost:8080/",
          "height": 423
        },
        "id": "5Pn5R4u5SC3x",
        "outputId": "e6296d8c-e17d-4f1c-b3ae-3c143275e5e4"
      },
      "execution_count": 18,
      "outputs": [
        {
          "output_type": "execute_result",
          "data": {
            "text/plain": [
              "      koi_prad\n",
              "0         2.26\n",
              "1         2.83\n",
              "4         2.75\n",
              "5         3.90\n",
              "6         2.77\n",
              "...        ...\n",
              "8057      2.71\n",
              "8817      0.95\n",
              "8956      2.44\n",
              "9014      1.09\n",
              "9083      0.68\n",
              "\n",
              "[2669 rows x 1 columns]"
            ],
            "text/html": [
              "\n",
              "  <div id=\"df-239f94f4-398f-4238-9abf-fd75f57ee400\">\n",
              "    <div class=\"colab-df-container\">\n",
              "      <div>\n",
              "<style scoped>\n",
              "    .dataframe tbody tr th:only-of-type {\n",
              "        vertical-align: middle;\n",
              "    }\n",
              "\n",
              "    .dataframe tbody tr th {\n",
              "        vertical-align: top;\n",
              "    }\n",
              "\n",
              "    .dataframe thead th {\n",
              "        text-align: right;\n",
              "    }\n",
              "</style>\n",
              "<table border=\"1\" class=\"dataframe\">\n",
              "  <thead>\n",
              "    <tr style=\"text-align: right;\">\n",
              "      <th></th>\n",
              "      <th>koi_prad</th>\n",
              "    </tr>\n",
              "  </thead>\n",
              "  <tbody>\n",
              "    <tr>\n",
              "      <th>0</th>\n",
              "      <td>2.26</td>\n",
              "    </tr>\n",
              "    <tr>\n",
              "      <th>1</th>\n",
              "      <td>2.83</td>\n",
              "    </tr>\n",
              "    <tr>\n",
              "      <th>4</th>\n",
              "      <td>2.75</td>\n",
              "    </tr>\n",
              "    <tr>\n",
              "      <th>5</th>\n",
              "      <td>3.90</td>\n",
              "    </tr>\n",
              "    <tr>\n",
              "      <th>6</th>\n",
              "      <td>2.77</td>\n",
              "    </tr>\n",
              "    <tr>\n",
              "      <th>...</th>\n",
              "      <td>...</td>\n",
              "    </tr>\n",
              "    <tr>\n",
              "      <th>8057</th>\n",
              "      <td>2.71</td>\n",
              "    </tr>\n",
              "    <tr>\n",
              "      <th>8817</th>\n",
              "      <td>0.95</td>\n",
              "    </tr>\n",
              "    <tr>\n",
              "      <th>8956</th>\n",
              "      <td>2.44</td>\n",
              "    </tr>\n",
              "    <tr>\n",
              "      <th>9014</th>\n",
              "      <td>1.09</td>\n",
              "    </tr>\n",
              "    <tr>\n",
              "      <th>9083</th>\n",
              "      <td>0.68</td>\n",
              "    </tr>\n",
              "  </tbody>\n",
              "</table>\n",
              "<p>2669 rows × 1 columns</p>\n",
              "</div>\n",
              "      <button class=\"colab-df-convert\" onclick=\"convertToInteractive('df-239f94f4-398f-4238-9abf-fd75f57ee400')\"\n",
              "              title=\"Convert this dataframe to an interactive table.\"\n",
              "              style=\"display:none;\">\n",
              "        \n",
              "  <svg xmlns=\"http://www.w3.org/2000/svg\" height=\"24px\"viewBox=\"0 0 24 24\"\n",
              "       width=\"24px\">\n",
              "    <path d=\"M0 0h24v24H0V0z\" fill=\"none\"/>\n",
              "    <path d=\"M18.56 5.44l.94 2.06.94-2.06 2.06-.94-2.06-.94-.94-2.06-.94 2.06-2.06.94zm-11 1L8.5 8.5l.94-2.06 2.06-.94-2.06-.94L8.5 2.5l-.94 2.06-2.06.94zm10 10l.94 2.06.94-2.06 2.06-.94-2.06-.94-.94-2.06-.94 2.06-2.06.94z\"/><path d=\"M17.41 7.96l-1.37-1.37c-.4-.4-.92-.59-1.43-.59-.52 0-1.04.2-1.43.59L10.3 9.45l-7.72 7.72c-.78.78-.78 2.05 0 2.83L4 21.41c.39.39.9.59 1.41.59.51 0 1.02-.2 1.41-.59l7.78-7.78 2.81-2.81c.8-.78.8-2.07 0-2.86zM5.41 20L4 18.59l7.72-7.72 1.47 1.35L5.41 20z\"/>\n",
              "  </svg>\n",
              "      </button>\n",
              "      \n",
              "  <style>\n",
              "    .colab-df-container {\n",
              "      display:flex;\n",
              "      flex-wrap:wrap;\n",
              "      gap: 12px;\n",
              "    }\n",
              "\n",
              "    .colab-df-convert {\n",
              "      background-color: #E8F0FE;\n",
              "      border: none;\n",
              "      border-radius: 50%;\n",
              "      cursor: pointer;\n",
              "      display: none;\n",
              "      fill: #1967D2;\n",
              "      height: 32px;\n",
              "      padding: 0 0 0 0;\n",
              "      width: 32px;\n",
              "    }\n",
              "\n",
              "    .colab-df-convert:hover {\n",
              "      background-color: #E2EBFA;\n",
              "      box-shadow: 0px 1px 2px rgba(60, 64, 67, 0.3), 0px 1px 3px 1px rgba(60, 64, 67, 0.15);\n",
              "      fill: #174EA6;\n",
              "    }\n",
              "\n",
              "    [theme=dark] .colab-df-convert {\n",
              "      background-color: #3B4455;\n",
              "      fill: #D2E3FC;\n",
              "    }\n",
              "\n",
              "    [theme=dark] .colab-df-convert:hover {\n",
              "      background-color: #434B5C;\n",
              "      box-shadow: 0px 1px 3px 1px rgba(0, 0, 0, 0.15);\n",
              "      filter: drop-shadow(0px 1px 2px rgba(0, 0, 0, 0.3));\n",
              "      fill: #FFFFFF;\n",
              "    }\n",
              "  </style>\n",
              "\n",
              "      <script>\n",
              "        const buttonEl =\n",
              "          document.querySelector('#df-239f94f4-398f-4238-9abf-fd75f57ee400 button.colab-df-convert');\n",
              "        buttonEl.style.display =\n",
              "          google.colab.kernel.accessAllowed ? 'block' : 'none';\n",
              "\n",
              "        async function convertToInteractive(key) {\n",
              "          const element = document.querySelector('#df-239f94f4-398f-4238-9abf-fd75f57ee400');\n",
              "          const dataTable =\n",
              "            await google.colab.kernel.invokeFunction('convertToInteractive',\n",
              "                                                     [key], {});\n",
              "          if (!dataTable) return;\n",
              "\n",
              "          const docLinkHtml = 'Like what you see? Visit the ' +\n",
              "            '<a target=\"_blank\" href=https://colab.research.google.com/notebooks/data_table.ipynb>data table notebook</a>'\n",
              "            + ' to learn more about interactive tables.';\n",
              "          element.innerHTML = '';\n",
              "          dataTable['output_type'] = 'display_data';\n",
              "          await google.colab.output.renderOutput(dataTable, element);\n",
              "          const docLink = document.createElement('div');\n",
              "          docLink.innerHTML = docLinkHtml;\n",
              "          element.appendChild(docLink);\n",
              "        }\n",
              "      </script>\n",
              "    </div>\n",
              "  </div>\n",
              "  "
            ]
          },
          "metadata": {},
          "execution_count": 18
        }
      ]
    },
    {
      "cell_type": "markdown",
      "source": [
        "Define two functions to attempt the regression twice"
      ],
      "metadata": {
        "id": "ZofTfpf1YTdi"
      }
    },
    {
      "cell_type": "code",
      "source": [
        "def test_validate1(x_test, y_test, y_predict, classifier):\n",
        "    x = range(len(y_test))\n",
        "    plt.plot(x, y_test, \"ro\", markersize=5, zorder=3, label=u\"known\")\n",
        "    plt.plot(x, y_predict, \"bo\", markersize=8, zorder=2, label=u\"predicted, $R$=%.3f\" % classifier.score(x_test, y_test))\n",
        "    plt.legend(loc=\"upper left\", prop={'size': 14})\n",
        "    plt.xlabel(\"Number\", fontsize = 14)\n",
        "    plt.ylabel(\"Planet Radius \" + r\"$(R_{earth})$\", fontsize = 14)\n",
        "    plt.tick_params(axis='both', which='major', labelsize=14)\n",
        "    plt.tick_params(axis='both', which='minor', labelsize=14)\n",
        "    plt.axis([0, 100, -10,50])\n",
        "    plt.show()\n",
        "\n",
        "def test_validate2(x_test, y_test, y_predict, classifier):\n",
        "    x = range(len(y_test))\n",
        "    plt.plot(x, y_test, \"ro\", markersize=5, zorder=3, label=u\"known\")\n",
        "    plt.plot(x, y_predict, \"bo\", markersize=8, zorder=2, label=u\"predicted, $R$=%.3f\" % classifier.score(x_test, y_test))\n",
        "    plt.legend(loc=\"lower left\", prop={'size': 14})\n",
        "    plt.xlabel(\"Number\", fontsize = 14)\n",
        "    plt.ylabel(\"Planet Radius \" + r\"$(R_{earth})$\", fontsize = 14)\n",
        "    plt.tick_params(axis='both', which='major', labelsize=14)\n",
        "    plt.tick_params(axis='both', which='minor', labelsize=14)\n",
        "    plt.axis([0, 100, -3,10])\n",
        "    plt.show()\n",
        "\n",
        "plt.rcParams[\"figure.figsize\"] = (10,7)"
      ],
      "metadata": {
        "id": "uYVjQTIQSMyX"
      },
      "execution_count": 19,
      "outputs": []
    },
    {
      "cell_type": "markdown",
      "source": [
        "Now use Multi-layer Perceptron regressor\n",
        "\n",
        "This model optimizes the squared error using LBFGS or stochastic gradient descent"
      ],
      "metadata": {
        "id": "A_73CSYjfFh1"
      }
    },
    {
      "cell_type": "code",
      "source": [
        "mlp = neural_network.MLPRegressor(hidden_layer_sizes=(100, 20), activation=\"relu\",\n",
        "                 solver='adam', alpha=0.0001,\n",
        "                 batch_size='auto', learning_rate=\"constant\",\n",
        "                 learning_rate_init=0.001,\n",
        "                 power_t=0.5, max_iter=1000,tol=1e-4)\n",
        "\n",
        "mlp.fit(x_train, y_train)\n",
        "r = mlp.score(x_train, y_train)\n",
        "y_predict = mlp.predict(x_test)  \n",
        "test_validate1(x_test=x_test, y_test=y_test, y_predict=y_predict, classifier=mlp)\n"
      ],
      "metadata": {
        "colab": {
          "base_uri": "https://localhost:8080/",
          "height": 511
        },
        "id": "af5gZ7WrSWne",
        "outputId": "3633bf36-5487-48c0-8444-2c1abd594126"
      },
      "execution_count": 20,
      "outputs": [
        {
          "output_type": "stream",
          "name": "stderr",
          "text": [
            "/usr/local/lib/python3.7/dist-packages/sklearn/neural_network/_multilayer_perceptron.py:1599: DataConversionWarning: A column-vector y was passed when a 1d array was expected. Please change the shape of y to (n_samples, ), for example using ravel().\n",
            "  y = column_or_1d(y, warn=True)\n"
          ]
        },
        {
          "output_type": "display_data",
          "data": {
            "text/plain": [
              "<Figure size 720x504 with 1 Axes>"
            ],
            "image/png": "[encoded data removed]"
          },
          "metadata": {
            "needs_background": "light"
          }
        }
      ]
    },
    {
      "cell_type": "code",
      "source": [
        "test_validate2(x_test=x_test, y_test=y_test, y_predict=y_predict, classifier=mlp)"
      ],
      "metadata": {
        "colab": {
          "base_uri": "https://localhost:8080/",
          "height": 456
        },
        "id": "emNgEXr1Sijy",
        "outputId": "7d265189-60ac-457c-975c-600bc3f9906f"
      },
      "execution_count": 21,
      "outputs": [
        {
          "output_type": "display_data",
          "data": {
            "text/plain": [
              "<Figure size 720x504 with 1 Axes>"
            ],
            "image/png": "[encoded data removed]"
          },
          "metadata": {
            "needs_background": "light"
          }
        }
      ]
    }
  ],
  "metadata": {
    "colab": {
      "provenance": [],
      "collapsed_sections": [],
      "toc_visible": true,
      "authorship_tag": "ABX9TyNQGL4vXkotmgIjf30/Oi+j",
      "include_colab_link": true
    },
    "kernelspec": {
      "display_name": "Python 3",
      "name": "python3"
    },
    "language_info": {
      "name": "python"
    }
  },
  "nbformat": 4,
  "nbformat_minor": 0
}