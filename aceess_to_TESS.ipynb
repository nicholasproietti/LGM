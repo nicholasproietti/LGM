{
  "cells": [
    {
      "cell_type": "markdown",
      "metadata": {
        "id": "view-in-github",
        "colab_type": "text"
      },
      "source": [
        "<a href=\"https://colab.research.google.com/github/nicholasproietti/LGM/blob/TESS/aceess_to_TESS.ipynb\" target=\"_parent\"><img src=\"https://colab.research.google.com/assets/colab-badge.svg\" alt=\"Open In Colab\"/></a>"
      ]
    },
    {
      "cell_type": "markdown",
      "metadata": {
        "id": "gQfYyBqgPm9x"
      },
      "source": [
        "[1.1 Install eleanor](#first-bullet)\n",
        "\n",
        "[1.2 Get the name of stars from table](#second-bullet)\n",
        "\n",
        "[1.3 Get LC](#third-bullet)\n",
        "\n",
        "[1.4 ](#fourth-bullet)"
      ]
    },
    {
      "cell_type": "markdown",
      "metadata": {
        "id": "JbcUUiXVPm92"
      },
      "source": [
        "# 1.1 Install eleanor <a class=\"anchor\" id=\"first-bullet\"></a>"
      ]
    },
    {
      "cell_type": "code",
      "source": [
        "!pip install eleanor"
      ],
      "metadata": {
        "colab": {
          "base_uri": "https://localhost:8080/"
        },
        "id": "w0OrUonpr57L",
        "outputId": "c85ecbb8-66ff-4b1a-cbf7-2890ddc7c026"
      },
      "execution_count": 13,
      "outputs": [
        {
          "output_type": "stream",
          "name": "stdout",
          "text": [
            "Looking in indexes: https://pypi.org/simple, https://us-python.pkg.dev/colab-wheels/public/simple/\n",
            "Requirement already satisfied: eleanor in /usr/local/lib/python3.7/dist-packages (2.0.5)\n",
            "Requirement already satisfied: nbsphinx in /usr/local/lib/python3.7/dist-packages (from eleanor) (0.8.9)\n",
            "Requirement already satisfied: tqdm in /usr/local/lib/python3.7/dist-packages (from eleanor) (4.64.1)\n",
            "Requirement already satisfied: lightkurve in /usr/local/lib/python3.7/dist-packages (from eleanor) (2.0.11)\n",
            "Requirement already satisfied: beautifulsoup4>=4.6.0 in /usr/local/lib/python3.7/dist-packages (from eleanor) (4.6.3)\n",
            "Requirement already satisfied: setuptools>=41.0.0 in /usr/local/lib/python3.7/dist-packages (from eleanor) (57.4.0)\n",
            "Requirement already satisfied: ipykernel in /usr/local/lib/python3.7/dist-packages (from eleanor) (5.3.4)\n",
            "Requirement already satisfied: astropy>=3.2.3 in /usr/local/lib/python3.7/dist-packages (from eleanor) (4.3.1)\n",
            "Requirement already satisfied: astroquery in /usr/local/lib/python3.7/dist-packages (from eleanor) (0.4.6)\n",
            "Requirement already satisfied: pandas in /usr/local/lib/python3.7/dist-packages (from eleanor) (1.3.5)\n",
            "Requirement already satisfied: photutils in /usr/local/lib/python3.7/dist-packages (from eleanor) (1.3.0)\n",
            "Requirement already satisfied: tess-point in /usr/local/lib/python3.7/dist-packages (from eleanor) (0.7.1)\n",
            "Requirement already satisfied: numpy>=1.17 in /usr/local/lib/python3.7/dist-packages (from astropy>=3.2.3->eleanor) (1.21.6)\n",
            "Requirement already satisfied: pyerfa>=1.7.3 in /usr/local/lib/python3.7/dist-packages (from astropy>=3.2.3->eleanor) (2.0.0.1)\n",
            "Requirement already satisfied: importlib-metadata in /usr/local/lib/python3.7/dist-packages (from astropy>=3.2.3->eleanor) (4.12.0)\n",
            "Requirement already satisfied: requests>=2.4.3 in /usr/local/lib/python3.7/dist-packages (from astroquery->eleanor) (2.23.0)\n",
            "Requirement already satisfied: html5lib>=0.999 in /usr/local/lib/python3.7/dist-packages (from astroquery->eleanor) (1.0.1)\n",
            "Requirement already satisfied: keyring>=4.0 in /usr/local/lib/python3.7/dist-packages (from astroquery->eleanor) (23.9.3)\n",
            "Requirement already satisfied: pyvo>=1.1 in /usr/local/lib/python3.7/dist-packages (from astroquery->eleanor) (1.2.1)\n",
            "Requirement already satisfied: six>=1.9 in /usr/local/lib/python3.7/dist-packages (from html5lib>=0.999->astroquery->eleanor) (1.15.0)\n",
            "Requirement already satisfied: webencodings in /usr/local/lib/python3.7/dist-packages (from html5lib>=0.999->astroquery->eleanor) (0.5.1)\n",
            "Requirement already satisfied: SecretStorage>=3.2 in /usr/local/lib/python3.7/dist-packages (from keyring>=4.0->astroquery->eleanor) (3.3.3)\n",
            "Requirement already satisfied: jeepney>=0.4.2 in /usr/local/lib/python3.7/dist-packages (from keyring>=4.0->astroquery->eleanor) (0.8.0)\n",
            "Requirement already satisfied: jaraco.classes in /usr/local/lib/python3.7/dist-packages (from keyring>=4.0->astroquery->eleanor) (3.2.3)\n",
            "Requirement already satisfied: zipp>=0.5 in /usr/local/lib/python3.7/dist-packages (from importlib-metadata->astropy>=3.2.3->eleanor) (3.8.1)\n",
            "Requirement already satisfied: typing-extensions>=3.6.4 in /usr/local/lib/python3.7/dist-packages (from importlib-metadata->astropy>=3.2.3->eleanor) (4.1.1)\n",
            "Requirement already satisfied: urllib3!=1.25.0,!=1.25.1,<1.26,>=1.21.1 in /usr/local/lib/python3.7/dist-packages (from requests>=2.4.3->astroquery->eleanor) (1.24.3)\n",
            "Requirement already satisfied: chardet<4,>=3.0.2 in /usr/local/lib/python3.7/dist-packages (from requests>=2.4.3->astroquery->eleanor) (3.0.4)\n",
            "Requirement already satisfied: certifi>=2017.4.17 in /usr/local/lib/python3.7/dist-packages (from requests>=2.4.3->astroquery->eleanor) (2022.6.15)\n",
            "Requirement already satisfied: idna<3,>=2.5 in /usr/local/lib/python3.7/dist-packages (from requests>=2.4.3->astroquery->eleanor) (2.10)\n",
            "Requirement already satisfied: cryptography>=2.0 in /usr/local/lib/python3.7/dist-packages (from SecretStorage>=3.2->keyring>=4.0->astroquery->eleanor) (38.0.1)\n",
            "Requirement already satisfied: cffi>=1.12 in /usr/local/lib/python3.7/dist-packages (from cryptography>=2.0->SecretStorage>=3.2->keyring>=4.0->astroquery->eleanor) (1.15.1)\n",
            "Requirement already satisfied: pycparser in /usr/local/lib/python3.7/dist-packages (from cffi>=1.12->cryptography>=2.0->SecretStorage>=3.2->keyring>=4.0->astroquery->eleanor) (2.21)\n",
            "Requirement already satisfied: tornado>=4.2 in /usr/local/lib/python3.7/dist-packages (from ipykernel->eleanor) (5.1.1)\n",
            "Requirement already satisfied: ipython>=5.0.0 in /usr/local/lib/python3.7/dist-packages (from ipykernel->eleanor) (7.9.0)\n",
            "Requirement already satisfied: jupyter-client in /usr/local/lib/python3.7/dist-packages (from ipykernel->eleanor) (6.1.12)\n",
            "Requirement already satisfied: traitlets>=4.1.0 in /usr/local/lib/python3.7/dist-packages (from ipykernel->eleanor) (5.1.1)\n",
            "Requirement already satisfied: prompt-toolkit<2.1.0,>=2.0.0 in /usr/local/lib/python3.7/dist-packages (from ipython>=5.0.0->ipykernel->eleanor) (2.0.10)\n",
            "Requirement already satisfied: backcall in /usr/local/lib/python3.7/dist-packages (from ipython>=5.0.0->ipykernel->eleanor) (0.2.0)\n",
            "Requirement already satisfied: jedi>=0.10 in /usr/local/lib/python3.7/dist-packages (from ipython>=5.0.0->ipykernel->eleanor) (0.18.1)\n",
            "Requirement already satisfied: pygments in /usr/local/lib/python3.7/dist-packages (from ipython>=5.0.0->ipykernel->eleanor) (2.6.1)\n",
            "Requirement already satisfied: decorator in /usr/local/lib/python3.7/dist-packages (from ipython>=5.0.0->ipykernel->eleanor) (4.4.2)\n",
            "Requirement already satisfied: pickleshare in /usr/local/lib/python3.7/dist-packages (from ipython>=5.0.0->ipykernel->eleanor) (0.7.5)\n",
            "Requirement already satisfied: pexpect in /usr/local/lib/python3.7/dist-packages (from ipython>=5.0.0->ipykernel->eleanor) (4.8.0)\n",
            "Requirement already satisfied: parso<0.9.0,>=0.8.0 in /usr/local/lib/python3.7/dist-packages (from jedi>=0.10->ipython>=5.0.0->ipykernel->eleanor) (0.8.3)\n",
            "Requirement already satisfied: wcwidth in /usr/local/lib/python3.7/dist-packages (from prompt-toolkit<2.1.0,>=2.0.0->ipython>=5.0.0->ipykernel->eleanor) (0.2.5)\n",
            "Requirement already satisfied: more-itertools in /usr/local/lib/python3.7/dist-packages (from jaraco.classes->keyring>=4.0->astroquery->eleanor) (8.14.0)\n",
            "Requirement already satisfied: jupyter-core>=4.6.0 in /usr/local/lib/python3.7/dist-packages (from jupyter-client->ipykernel->eleanor) (4.11.1)\n",
            "Requirement already satisfied: python-dateutil>=2.1 in /usr/local/lib/python3.7/dist-packages (from jupyter-client->ipykernel->eleanor) (2.8.2)\n",
            "Requirement already satisfied: pyzmq>=13 in /usr/local/lib/python3.7/dist-packages (from jupyter-client->ipykernel->eleanor) (23.2.1)\n",
            "Requirement already satisfied: memoization>=0.3.1 in /usr/local/lib/python3.7/dist-packages (from lightkurve->eleanor) (0.4.0)\n",
            "Requirement already satisfied: scipy>=0.19.0 in /usr/local/lib/python3.7/dist-packages (from lightkurve->eleanor) (1.7.3)\n",
            "Requirement already satisfied: patsy>=0.5.0 in /usr/local/lib/python3.7/dist-packages (from lightkurve->eleanor) (0.5.2)\n",
            "Requirement already satisfied: uncertainties>=3.1.4 in /usr/local/lib/python3.7/dist-packages (from lightkurve->eleanor) (3.1.7)\n",
            "Requirement already satisfied: matplotlib>=1.5.3 in /usr/local/lib/python3.7/dist-packages (from lightkurve->eleanor) (3.2.2)\n",
            "Requirement already satisfied: oktopus>=0.1.2 in /usr/local/lib/python3.7/dist-packages (from lightkurve->eleanor) (0.1.2)\n",
            "Requirement already satisfied: scikit-learn>=0.24.0 in /usr/local/lib/python3.7/dist-packages (from lightkurve->eleanor) (1.0.2)\n",
            "Requirement already satisfied: bokeh>=1.0 in /usr/local/lib/python3.7/dist-packages (from lightkurve->eleanor) (2.3.3)\n",
            "Requirement already satisfied: fbpca>=1.0 in /usr/local/lib/python3.7/dist-packages (from lightkurve->eleanor) (1.0)\n",
            "Requirement already satisfied: PyYAML>=3.10 in /usr/local/lib/python3.7/dist-packages (from bokeh>=1.0->lightkurve->eleanor) (6.0)\n",
            "Requirement already satisfied: Jinja2>=2.9 in /usr/local/lib/python3.7/dist-packages (from bokeh>=1.0->lightkurve->eleanor) (2.11.3)\n",
            "Requirement already satisfied: pillow>=7.1.0 in /usr/local/lib/python3.7/dist-packages (from bokeh>=1.0->lightkurve->eleanor) (7.1.2)\n",
            "Requirement already satisfied: packaging>=16.8 in /usr/local/lib/python3.7/dist-packages (from bokeh>=1.0->lightkurve->eleanor) (21.3)\n",
            "Requirement already satisfied: MarkupSafe>=0.23 in /usr/local/lib/python3.7/dist-packages (from Jinja2>=2.9->bokeh>=1.0->lightkurve->eleanor) (2.0.1)\n",
            "Requirement already satisfied: cycler>=0.10 in /usr/local/lib/python3.7/dist-packages (from matplotlib>=1.5.3->lightkurve->eleanor) (0.11.0)\n",
            "Requirement already satisfied: pyparsing!=2.0.4,!=2.1.2,!=2.1.6,>=2.0.1 in /usr/local/lib/python3.7/dist-packages (from matplotlib>=1.5.3->lightkurve->eleanor) (3.0.9)\n",
            "Requirement already satisfied: kiwisolver>=1.0.1 in /usr/local/lib/python3.7/dist-packages (from matplotlib>=1.5.3->lightkurve->eleanor) (1.4.4)\n",
            "Requirement already satisfied: autograd in /usr/local/lib/python3.7/dist-packages (from oktopus>=0.1.2->lightkurve->eleanor) (1.4)\n",
            "Requirement already satisfied: pytz>=2017.3 in /usr/local/lib/python3.7/dist-packages (from pandas->eleanor) (2022.2.1)\n",
            "Requirement already satisfied: threadpoolctl>=2.0.0 in /usr/local/lib/python3.7/dist-packages (from scikit-learn>=0.24.0->lightkurve->eleanor) (3.1.0)\n",
            "Requirement already satisfied: joblib>=0.11 in /usr/local/lib/python3.7/dist-packages (from scikit-learn>=0.24.0->lightkurve->eleanor) (1.1.0)\n",
            "Requirement already satisfied: future in /usr/local/lib/python3.7/dist-packages (from uncertainties>=3.1.4->lightkurve->eleanor) (0.16.0)\n",
            "Requirement already satisfied: nbformat in /usr/local/lib/python3.7/dist-packages (from nbsphinx->eleanor) (5.4.0)\n",
            "Requirement already satisfied: sphinx>=1.8 in /usr/local/lib/python3.7/dist-packages (from nbsphinx->eleanor) (1.8.6)\n",
            "Requirement already satisfied: docutils in /usr/local/lib/python3.7/dist-packages (from nbsphinx->eleanor) (0.17.1)\n",
            "Requirement already satisfied: nbconvert!=5.4 in /usr/local/lib/python3.7/dist-packages (from nbsphinx->eleanor) (5.6.1)\n",
            "Requirement already satisfied: defusedxml in /usr/local/lib/python3.7/dist-packages (from nbconvert!=5.4->nbsphinx->eleanor) (0.7.1)\n",
            "Requirement already satisfied: testpath in /usr/local/lib/python3.7/dist-packages (from nbconvert!=5.4->nbsphinx->eleanor) (0.6.0)\n",
            "Requirement already satisfied: pandocfilters>=1.4.1 in /usr/local/lib/python3.7/dist-packages (from nbconvert!=5.4->nbsphinx->eleanor) (1.5.0)\n",
            "Requirement already satisfied: entrypoints>=0.2.2 in /usr/local/lib/python3.7/dist-packages (from nbconvert!=5.4->nbsphinx->eleanor) (0.4)\n",
            "Requirement already satisfied: mistune<2,>=0.8.1 in /usr/local/lib/python3.7/dist-packages (from nbconvert!=5.4->nbsphinx->eleanor) (0.8.4)\n",
            "Requirement already satisfied: bleach in /usr/local/lib/python3.7/dist-packages (from nbconvert!=5.4->nbsphinx->eleanor) (5.0.1)\n",
            "Requirement already satisfied: fastjsonschema in /usr/local/lib/python3.7/dist-packages (from nbformat->nbsphinx->eleanor) (2.16.1)\n",
            "Requirement already satisfied: jsonschema>=2.6 in /usr/local/lib/python3.7/dist-packages (from nbformat->nbsphinx->eleanor) (4.3.3)\n",
            "Requirement already satisfied: importlib-resources>=1.4.0 in /usr/local/lib/python3.7/dist-packages (from jsonschema>=2.6->nbformat->nbsphinx->eleanor) (5.9.0)\n",
            "Requirement already satisfied: pyrsistent!=0.17.0,!=0.17.1,!=0.17.2,>=0.14.0 in /usr/local/lib/python3.7/dist-packages (from jsonschema>=2.6->nbformat->nbsphinx->eleanor) (0.18.1)\n",
            "Requirement already satisfied: attrs>=17.4.0 in /usr/local/lib/python3.7/dist-packages (from jsonschema>=2.6->nbformat->nbsphinx->eleanor) (22.1.0)\n",
            "Requirement already satisfied: snowballstemmer>=1.1 in /usr/local/lib/python3.7/dist-packages (from sphinx>=1.8->nbsphinx->eleanor) (2.2.0)\n",
            "Requirement already satisfied: sphinxcontrib-websupport in /usr/local/lib/python3.7/dist-packages (from sphinx>=1.8->nbsphinx->eleanor) (1.2.4)\n",
            "Requirement already satisfied: imagesize in /usr/local/lib/python3.7/dist-packages (from sphinx>=1.8->nbsphinx->eleanor) (1.4.1)\n",
            "Requirement already satisfied: babel!=2.0,>=1.3 in /usr/local/lib/python3.7/dist-packages (from sphinx>=1.8->nbsphinx->eleanor) (2.10.3)\n",
            "Requirement already satisfied: alabaster<0.8,>=0.7 in /usr/local/lib/python3.7/dist-packages (from sphinx>=1.8->nbsphinx->eleanor) (0.7.12)\n",
            "Requirement already satisfied: ptyprocess>=0.5 in /usr/local/lib/python3.7/dist-packages (from pexpect->ipython>=5.0.0->ipykernel->eleanor) (0.7.0)\n",
            "Requirement already satisfied: sphinxcontrib-serializinghtml in /usr/local/lib/python3.7/dist-packages (from sphinxcontrib-websupport->sphinx>=1.8->nbsphinx->eleanor) (1.1.5)\n"
          ]
        }
      ]
    },
    {
      "cell_type": "markdown",
      "metadata": {
        "id": "H2AmEuARPm95"
      },
      "source": [
        "# 1.2 Get the name list of stars from table <a class=\"anchor\" id=\"second-bullet\"></a>"
      ]
    },
    {
      "cell_type": "code",
      "source": [
        "import eleanor\n",
        "import numpy as np\n",
        "import matplotlib.pyplot as plt\n",
        "import pandas as pd"
      ],
      "metadata": {
        "id": "2UebW0dkK0sV"
      },
      "execution_count": null,
      "outputs": []
    },
    {
      "cell_type": "code",
      "source": [
        "TESS_table = pd.read_csv('PS_2022.09.29_07.42.37.csv')\n",
        "TESS_table.shape\n",
        "print(TESS_table['pl_name'])"
      ],
      "metadata": {
        "colab": {
          "base_uri": "https://localhost:8080/"
        },
        "id": "04YrYUJ5spIE",
        "outputId": "6589e9fd-d0cb-4564-c7db-af9456b82f6b"
      },
      "execution_count": 6,
      "outputs": [
        {
          "output_type": "stream",
          "name": "stdout",
          "text": [
            "0           AU Mic b\n",
            "1           AU Mic c\n",
            "2         DS Tuc A b\n",
            "3          GJ 1252 b\n",
            "4           GJ 143 b\n",
            "           ...      \n",
            "251       WASP-126 c\n",
            "252       WASP-132 c\n",
            "253        WASP-18 c\n",
            "254    WD 1856+534 b\n",
            "255         pi Men c\n",
            "Name: pl_name, Length: 256, dtype: object\n"
          ]
        }
      ]
    },
    {
      "cell_type": "markdown",
      "source": [
        "# 1.3 Get LC <a class=\"anchor\" id=\"second-bullet\"></a>"
      ],
      "metadata": {
        "id": "Oz3CyFELRlmS"
      }
    },
    {
      "cell_type": "code",
      "source": [
        "LC_table = pd.DataFrame([])\n",
        "LC_time_table = pd.DataFrame([])\n",
        "pl_name_table = pd.DataFrame([])\n",
        "for pl_name in TESS_table['pl_name']:\n",
        "  try:\n",
        "    star = eleanor.Source(name=pl_name, sector=1)\n",
        "    data = eleanor.TargetData(star, height=15, width=15, bkg_size=31, do_pca=True, regressors='corner')\n",
        "    q = data.quality == 0\n",
        "  except(TypeError, IndexError, ValueError ):\n",
        "    print('ingoring star '+ pl_name)\n",
        "    continue\n",
        "  else:\n",
        "    LC = data.raw_flux[q]/np.nanmean(data.raw_flux[q])\n",
        "    LC_time = data.time[q]\n",
        "    LC_table.join(pd.DataFrame({pl_name: LC}))\n",
        "    LC_time_table.join(pd.DataFrame({pl_name: LC_time}))\n",
        "    print('added '+pl_name+' to table')\n",
        "    \n",
        "    \n"
      ],
      "metadata": {
        "colab": {
          "base_uri": "https://localhost:8080/"
        },
        "id": "lpE_K3efso5I",
        "outputId": "64e4999b-dfc5-40a1-ac82-ec5f569dbc8d"
      },
      "execution_count": 15,
      "outputs": [
        {
          "output_type": "stream",
          "name": "stderr",
          "text": [
            "INFO:astroquery:Found cached file ./mastDownload/HLSP/hlsp_eleanor_tess_ffi_postcard-s0001-1-4-cal-1784-1240_tess_v2_pc/hlsp_eleanor_tess_ffi_postcard-s0001-1-4-cal-1784-1240_tess_v2_bkg.fits with expected size 78955200.\n",
            "INFO:astroquery:Found cached file ./mastDownload/HLSP/hlsp_eleanor_tess_ffi_postcard-s0001-1-4-cal-1784-1240_tess_v2_pc/hlsp_eleanor_tess_ffi_postcard-s0001-1-4-cal-1784-1240_tess_v2_pc.fits with expected size 158022720.\n"
          ]
        },
        {
          "output_type": "stream",
          "name": "stdout",
          "text": [
            "INFO: Found cached file ./mastDownload/HLSP/hlsp_eleanor_tess_ffi_postcard-s0001-1-4-cal-1784-1240_tess_v2_pc/hlsp_eleanor_tess_ffi_postcard-s0001-1-4-cal-1784-1240_tess_v2_bkg.fits with expected size 78955200. [astroquery.query]\n",
            "INFO: Found cached file ./mastDownload/HLSP/hlsp_eleanor_tess_ffi_postcard-s0001-1-4-cal-1784-1240_tess_v2_pc/hlsp_eleanor_tess_ffi_postcard-s0001-1-4-cal-1784-1240_tess_v2_pc.fits with expected size 158022720. [astroquery.query]\n"
          ]
        },
        {
          "output_type": "stream",
          "name": "stderr",
          "text": [
            "INFO:astroquery:Found cached file ./mastDownload/HLSP/hlsp_eleanor_tess_ffi_postcard-s0001-1-4-cal-1784-1240_tess_v2_pc/hlsp_eleanor_tess_ffi_postcard-s0001-1-4_tess_v2_pm.txt with expected size 238803.\n"
          ]
        },
        {
          "output_type": "stream",
          "name": "stdout",
          "text": [
            "INFO: Found cached file ./mastDownload/HLSP/hlsp_eleanor_tess_ffi_postcard-s0001-1-4-cal-1784-1240_tess_v2_pc/hlsp_eleanor_tess_ffi_postcard-s0001-1-4_tess_v2_pm.txt with expected size 238803. [astroquery.query]\n",
            "added AU Mic b to table\n"
          ]
        },
        {
          "output_type": "stream",
          "name": "stderr",
          "text": [
            "INFO:astroquery:Found cached file ./mastDownload/HLSP/hlsp_eleanor_tess_ffi_postcard-s0001-1-4-cal-1784-1240_tess_v2_pc/hlsp_eleanor_tess_ffi_postcard-s0001-1-4-cal-1784-1240_tess_v2_bkg.fits with expected size 78955200.\n",
            "INFO:astroquery:Found cached file ./mastDownload/HLSP/hlsp_eleanor_tess_ffi_postcard-s0001-1-4-cal-1784-1240_tess_v2_pc/hlsp_eleanor_tess_ffi_postcard-s0001-1-4-cal-1784-1240_tess_v2_pc.fits with expected size 158022720.\n",
            "INFO:astroquery:Found cached file ./mastDownload/HLSP/hlsp_eleanor_tess_ffi_postcard-s0001-1-4-cal-1784-1240_tess_v2_pc/hlsp_eleanor_tess_ffi_postcard-s0001-1-4_tess_v2_pm.txt with expected size 238803.\n"
          ]
        },
        {
          "output_type": "stream",
          "name": "stdout",
          "text": [
            "INFO: Found cached file ./mastDownload/HLSP/hlsp_eleanor_tess_ffi_postcard-s0001-1-4-cal-1784-1240_tess_v2_pc/hlsp_eleanor_tess_ffi_postcard-s0001-1-4-cal-1784-1240_tess_v2_bkg.fits with expected size 78955200. [astroquery.query]\n",
            "INFO: Found cached file ./mastDownload/HLSP/hlsp_eleanor_tess_ffi_postcard-s0001-1-4-cal-1784-1240_tess_v2_pc/hlsp_eleanor_tess_ffi_postcard-s0001-1-4-cal-1784-1240_tess_v2_pc.fits with expected size 158022720. [astroquery.query]\n",
            "INFO: Found cached file ./mastDownload/HLSP/hlsp_eleanor_tess_ffi_postcard-s0001-1-4-cal-1784-1240_tess_v2_pc/hlsp_eleanor_tess_ffi_postcard-s0001-1-4_tess_v2_pm.txt with expected size 238803. [astroquery.query]\n",
            "added AU Mic c to table\n",
            "ingoring star DS Tuc A b\n",
            "ingoring star GJ 1252 b\n"
          ]
        },
        {
          "output_type": "stream",
          "name": "stderr",
          "text": [
            "INFO:astroquery:Found cached file ./mastDownload/HLSP/hlsp_eleanor_tess_ffi_postcard-s0001-3-4-cal-1686-0160_tess_v2_pc/hlsp_eleanor_tess_ffi_postcard-s0001-3-4-cal-1686-0160_tess_v2_bkg.fits with expected size 78955200.\n",
            "INFO:astroquery:Found cached file ./mastDownload/HLSP/hlsp_eleanor_tess_ffi_postcard-s0001-3-4-cal-1686-0160_tess_v2_pc/hlsp_eleanor_tess_ffi_postcard-s0001-3-4-cal-1686-0160_tess_v2_pc.fits with expected size 158022720.\n"
          ]
        },
        {
          "output_type": "stream",
          "name": "stdout",
          "text": [
            "INFO: Found cached file ./mastDownload/HLSP/hlsp_eleanor_tess_ffi_postcard-s0001-3-4-cal-1686-0160_tess_v2_pc/hlsp_eleanor_tess_ffi_postcard-s0001-3-4-cal-1686-0160_tess_v2_bkg.fits with expected size 78955200. [astroquery.query]\n",
            "INFO: Found cached file ./mastDownload/HLSP/hlsp_eleanor_tess_ffi_postcard-s0001-3-4-cal-1686-0160_tess_v2_pc/hlsp_eleanor_tess_ffi_postcard-s0001-3-4-cal-1686-0160_tess_v2_pc.fits with expected size 158022720. [astroquery.query]\n"
          ]
        },
        {
          "output_type": "stream",
          "name": "stderr",
          "text": [
            "INFO:astroquery:Found cached file ./mastDownload/HLSP/hlsp_eleanor_tess_ffi_postcard-s0001-3-4-cal-1686-0160_tess_v2_pc/hlsp_eleanor_tess_ffi_postcard-s0001-3-4_tess_v2_pm.txt with expected size 239582.\n"
          ]
        },
        {
          "output_type": "stream",
          "name": "stdout",
          "text": [
            "INFO: Found cached file ./mastDownload/HLSP/hlsp_eleanor_tess_ffi_postcard-s0001-3-4-cal-1686-0160_tess_v2_pc/hlsp_eleanor_tess_ffi_postcard-s0001-3-4_tess_v2_pm.txt with expected size 239582. [astroquery.query]\n",
            "added GJ 143 b to table\n",
            "ingoring star GJ 3090 b\n",
            "ingoring star GJ 3473 b\n",
            "ingoring star GJ 357 b\n",
            "ingoring star GJ 367 b\n",
            "ingoring star GJ 3929 b\n",
            "ingoring star HD 108236 b\n",
            "ingoring star HD 108236 c\n",
            "ingoring star HD 108236 d\n",
            "ingoring star HD 108236 e\n",
            "ingoring star HD 110082 b\n",
            "ingoring star HD 110113 b\n"
          ]
        },
        {
          "output_type": "stream",
          "name": "stderr",
          "text": [
            "INFO:astroquery:Found cached file ./mastDownload/HLSP/hlsp_eleanor_tess_ffi_postcard-s0001-3-1-cal-1784-0808_tess_v2_pc/hlsp_eleanor_tess_ffi_postcard-s0001-3-1-cal-1784-0808_tess_v2_bkg.fits with expected size 78955200.\n",
            "INFO:astroquery:Found cached file ./mastDownload/HLSP/hlsp_eleanor_tess_ffi_postcard-s0001-3-1-cal-1784-0808_tess_v2_pc/hlsp_eleanor_tess_ffi_postcard-s0001-3-1-cal-1784-0808_tess_v2_pc.fits with expected size 158022720.\n",
            "INFO:astroquery:Found cached file ./mastDownload/HLSP/hlsp_eleanor_tess_ffi_postcard-s0001-3-1-cal-1784-0808_tess_v2_pc/hlsp_eleanor_tess_ffi_postcard-s0001-3-1_tess_v2_pm.txt with expected size 237794.\n"
          ]
        },
        {
          "output_type": "stream",
          "name": "stdout",
          "text": [
            "INFO: Found cached file ./mastDownload/HLSP/hlsp_eleanor_tess_ffi_postcard-s0001-3-1-cal-1784-0808_tess_v2_pc/hlsp_eleanor_tess_ffi_postcard-s0001-3-1-cal-1784-0808_tess_v2_bkg.fits with expected size 78955200. [astroquery.query]\n",
            "INFO: Found cached file ./mastDownload/HLSP/hlsp_eleanor_tess_ffi_postcard-s0001-3-1-cal-1784-0808_tess_v2_pc/hlsp_eleanor_tess_ffi_postcard-s0001-3-1-cal-1784-0808_tess_v2_pc.fits with expected size 158022720. [astroquery.query]\n",
            "INFO: Found cached file ./mastDownload/HLSP/hlsp_eleanor_tess_ffi_postcard-s0001-3-1-cal-1784-0808_tess_v2_pc/hlsp_eleanor_tess_ffi_postcard-s0001-3-1_tess_v2_pm.txt with expected size 237794. [astroquery.query]\n",
            "added HD 1397 b to table\n",
            "ingoring star HD 152843 b\n",
            "ingoring star HD 152843 c\n",
            "ingoring star HD 15337 b\n",
            "ingoring star HD 15337 c\n",
            "ingoring star HD 183579 b\n",
            "ingoring star HD 191939 b\n",
            "ingoring star HD 191939 c\n",
            "ingoring star HD 191939 d\n"
          ]
        },
        {
          "output_type": "stream",
          "name": "stderr",
          "text": [
            "INFO:astroquery:Found cached file ./mastDownload/HLSP/hlsp_eleanor_tess_ffi_postcard-s0001-1-4-cal-0314-0808_tess_v2_pc/hlsp_eleanor_tess_ffi_postcard-s0001-1-4-cal-0314-0808_tess_v2_bkg.fits with expected size 78955200.\n",
            "INFO:astroquery:Found cached file ./mastDownload/HLSP/hlsp_eleanor_tess_ffi_postcard-s0001-1-4-cal-0314-0808_tess_v2_pc/hlsp_eleanor_tess_ffi_postcard-s0001-1-4-cal-0314-0808_tess_v2_pc.fits with expected size 158022720.\n",
            "INFO:astroquery:Found cached file ./mastDownload/HLSP/hlsp_eleanor_tess_ffi_postcard-s0001-1-4-cal-0314-0808_tess_v2_pc/hlsp_eleanor_tess_ffi_postcard-s0001-1-4_tess_v2_pm.txt with expected size 238803.\n"
          ]
        },
        {
          "output_type": "stream",
          "name": "stdout",
          "text": [
            "INFO: Found cached file ./mastDownload/HLSP/hlsp_eleanor_tess_ffi_postcard-s0001-1-4-cal-0314-0808_tess_v2_pc/hlsp_eleanor_tess_ffi_postcard-s0001-1-4-cal-0314-0808_tess_v2_bkg.fits with expected size 78955200. [astroquery.query]\n",
            "INFO: Found cached file ./mastDownload/HLSP/hlsp_eleanor_tess_ffi_postcard-s0001-1-4-cal-0314-0808_tess_v2_pc/hlsp_eleanor_tess_ffi_postcard-s0001-1-4-cal-0314-0808_tess_v2_pc.fits with expected size 158022720. [astroquery.query]\n",
            "INFO: Found cached file ./mastDownload/HLSP/hlsp_eleanor_tess_ffi_postcard-s0001-1-4-cal-0314-0808_tess_v2_pc/hlsp_eleanor_tess_ffi_postcard-s0001-1-4_tess_v2_pm.txt with expected size 238803. [astroquery.query]\n",
            "added HD 202772 A b to table\n",
            "ingoring star HD 207897 b\n"
          ]
        },
        {
          "output_type": "stream",
          "name": "stderr",
          "text": [
            "INFO:astroquery:Found cached file ./mastDownload/HLSP/hlsp_eleanor_tess_ffi_postcard-s0001-2-1-cal-1784-1348_tess_v2_pc/hlsp_eleanor_tess_ffi_postcard-s0001-2-1-cal-1784-1348_tess_v2_bkg.fits with expected size 78955200.\n",
            "INFO:astroquery:Found cached file ./mastDownload/HLSP/hlsp_eleanor_tess_ffi_postcard-s0001-2-1-cal-1784-1348_tess_v2_pc/hlsp_eleanor_tess_ffi_postcard-s0001-2-1-cal-1784-1348_tess_v2_pc.fits with expected size 158022720.\n"
          ]
        },
        {
          "output_type": "stream",
          "name": "stdout",
          "text": [
            "INFO: Found cached file ./mastDownload/HLSP/hlsp_eleanor_tess_ffi_postcard-s0001-2-1-cal-1784-1348_tess_v2_pc/hlsp_eleanor_tess_ffi_postcard-s0001-2-1-cal-1784-1348_tess_v2_bkg.fits with expected size 78955200. [astroquery.query]\n",
            "INFO: Found cached file ./mastDownload/HLSP/hlsp_eleanor_tess_ffi_postcard-s0001-2-1-cal-1784-1348_tess_v2_pc/hlsp_eleanor_tess_ffi_postcard-s0001-2-1-cal-1784-1348_tess_v2_pc.fits with expected size 158022720. [astroquery.query]\n"
          ]
        },
        {
          "output_type": "stream",
          "name": "stderr",
          "text": [
            "INFO:astroquery:Found cached file ./mastDownload/HLSP/hlsp_eleanor_tess_ffi_postcard-s0001-2-1-cal-1784-1348_tess_v2_pc/hlsp_eleanor_tess_ffi_postcard-s0001-2-1_tess_v2_pm.txt with expected size 239875.\n"
          ]
        },
        {
          "output_type": "stream",
          "name": "stdout",
          "text": [
            "INFO: Found cached file ./mastDownload/HLSP/hlsp_eleanor_tess_ffi_postcard-s0001-2-1-cal-1784-1348_tess_v2_pc/hlsp_eleanor_tess_ffi_postcard-s0001-2-1_tess_v2_pm.txt with expected size 239875. [astroquery.query]\n",
            "added HD 213885 b to table\n"
          ]
        },
        {
          "output_type": "stream",
          "name": "stderr",
          "text": [
            "INFO:astroquery:Found cached file ./mastDownload/HLSP/hlsp_eleanor_tess_ffi_postcard-s0001-3-4-cal-1686-0160_tess_v2_pc/hlsp_eleanor_tess_ffi_postcard-s0001-3-4-cal-1686-0160_tess_v2_bkg.fits with expected size 78955200.\n",
            "INFO:astroquery:Found cached file ./mastDownload/HLSP/hlsp_eleanor_tess_ffi_postcard-s0001-3-4-cal-1686-0160_tess_v2_pc/hlsp_eleanor_tess_ffi_postcard-s0001-3-4-cal-1686-0160_tess_v2_pc.fits with expected size 158022720.\n",
            "INFO:astroquery:Found cached file ./mastDownload/HLSP/hlsp_eleanor_tess_ffi_postcard-s0001-3-4-cal-1686-0160_tess_v2_pc/hlsp_eleanor_tess_ffi_postcard-s0001-3-4_tess_v2_pm.txt with expected size 239582.\n"
          ]
        },
        {
          "output_type": "stream",
          "name": "stdout",
          "text": [
            "INFO: Found cached file ./mastDownload/HLSP/hlsp_eleanor_tess_ffi_postcard-s0001-3-4-cal-1686-0160_tess_v2_pc/hlsp_eleanor_tess_ffi_postcard-s0001-3-4-cal-1686-0160_tess_v2_bkg.fits with expected size 78955200. [astroquery.query]\n",
            "INFO: Found cached file ./mastDownload/HLSP/hlsp_eleanor_tess_ffi_postcard-s0001-3-4-cal-1686-0160_tess_v2_pc/hlsp_eleanor_tess_ffi_postcard-s0001-3-4-cal-1686-0160_tess_v2_pc.fits with expected size 158022720. [astroquery.query]\n",
            "INFO: Found cached file ./mastDownload/HLSP/hlsp_eleanor_tess_ffi_postcard-s0001-3-4-cal-1686-0160_tess_v2_pc/hlsp_eleanor_tess_ffi_postcard-s0001-3-4_tess_v2_pm.txt with expected size 239582. [astroquery.query]\n",
            "added HD 21749 c to table\n"
          ]
        },
        {
          "output_type": "stream",
          "name": "stderr",
          "text": [
            "INFO:astroquery:Found cached file ./mastDownload/HLSP/hlsp_eleanor_tess_ffi_postcard-s0001-2-2-cal-0706-1240_tess_v2_pc/hlsp_eleanor_tess_ffi_postcard-s0001-2-2-cal-0706-1240_tess_v2_bkg.fits with expected size 78955200.\n",
            "INFO:astroquery:Found cached file ./mastDownload/HLSP/hlsp_eleanor_tess_ffi_postcard-s0001-2-2-cal-0706-1240_tess_v2_pc/hlsp_eleanor_tess_ffi_postcard-s0001-2-2-cal-0706-1240_tess_v2_pc.fits with expected size 158022720.\n"
          ]
        },
        {
          "output_type": "stream",
          "name": "stdout",
          "text": [
            "INFO: Found cached file ./mastDownload/HLSP/hlsp_eleanor_tess_ffi_postcard-s0001-2-2-cal-0706-1240_tess_v2_pc/hlsp_eleanor_tess_ffi_postcard-s0001-2-2-cal-0706-1240_tess_v2_bkg.fits with expected size 78955200. [astroquery.query]\n",
            "INFO: Found cached file ./mastDownload/HLSP/hlsp_eleanor_tess_ffi_postcard-s0001-2-2-cal-0706-1240_tess_v2_pc/hlsp_eleanor_tess_ffi_postcard-s0001-2-2-cal-0706-1240_tess_v2_pc.fits with expected size 158022720. [astroquery.query]\n"
          ]
        },
        {
          "output_type": "stream",
          "name": "stderr",
          "text": [
            "INFO:astroquery:Found cached file ./mastDownload/HLSP/hlsp_eleanor_tess_ffi_postcard-s0001-2-2-cal-0706-1240_tess_v2_pc/hlsp_eleanor_tess_ffi_postcard-s0001-2-2_tess_v2_pm.txt with expected size 238686.\n"
          ]
        },
        {
          "output_type": "stream",
          "name": "stdout",
          "text": [
            "INFO: Found cached file ./mastDownload/HLSP/hlsp_eleanor_tess_ffi_postcard-s0001-2-2-cal-0706-1240_tess_v2_pc/hlsp_eleanor_tess_ffi_postcard-s0001-2-2_tess_v2_pm.txt with expected size 238686. [astroquery.query]\n",
            "added HD 219666 b to table\n",
            "ingoring star HD 221416 b\n"
          ]
        },
        {
          "output_type": "stream",
          "name": "stderr",
          "text": [
            "INFO:astroquery:Found cached file ./mastDownload/HLSP/hlsp_eleanor_tess_ffi_postcard-s0001-4-1-cal-0314-0106_tess_v2_pc/hlsp_eleanor_tess_ffi_postcard-s0001-4-1-cal-0314-0106_tess_v2_bkg.fits with expected size 78955200.\n",
            "INFO:astroquery:Found cached file ./mastDownload/HLSP/hlsp_eleanor_tess_ffi_postcard-s0001-4-1-cal-0314-0106_tess_v2_pc/hlsp_eleanor_tess_ffi_postcard-s0001-4-1-cal-0314-0106_tess_v2_pc.fits with expected size 158022720.\n",
            "INFO:astroquery:Found cached file ./mastDownload/HLSP/hlsp_eleanor_tess_ffi_postcard-s0001-4-1-cal-0314-0106_tess_v2_pc/hlsp_eleanor_tess_ffi_postcard-s0001-4-1_tess_v2_pm.txt with expected size 237847.\n"
          ]
        },
        {
          "output_type": "stream",
          "name": "stdout",
          "text": [
            "INFO: Found cached file ./mastDownload/HLSP/hlsp_eleanor_tess_ffi_postcard-s0001-4-1-cal-0314-0106_tess_v2_pc/hlsp_eleanor_tess_ffi_postcard-s0001-4-1-cal-0314-0106_tess_v2_bkg.fits with expected size 78955200. [astroquery.query]\n",
            "INFO: Found cached file ./mastDownload/HLSP/hlsp_eleanor_tess_ffi_postcard-s0001-4-1-cal-0314-0106_tess_v2_pc/hlsp_eleanor_tess_ffi_postcard-s0001-4-1-cal-0314-0106_tess_v2_pc.fits with expected size 158022720. [astroquery.query]\n",
            "INFO: Found cached file ./mastDownload/HLSP/hlsp_eleanor_tess_ffi_postcard-s0001-4-1-cal-0314-0106_tess_v2_pc/hlsp_eleanor_tess_ffi_postcard-s0001-4-1_tess_v2_pm.txt with expected size 237847. [astroquery.query]\n",
            "added HD 23472 b to table\n"
          ]
        },
        {
          "output_type": "stream",
          "name": "stderr",
          "text": [
            "INFO:astroquery:Found cached file ./mastDownload/HLSP/hlsp_eleanor_tess_ffi_postcard-s0001-4-1-cal-0314-0106_tess_v2_pc/hlsp_eleanor_tess_ffi_postcard-s0001-4-1-cal-0314-0106_tess_v2_bkg.fits with expected size 78955200.\n",
            "INFO:astroquery:Found cached file ./mastDownload/HLSP/hlsp_eleanor_tess_ffi_postcard-s0001-4-1-cal-0314-0106_tess_v2_pc/hlsp_eleanor_tess_ffi_postcard-s0001-4-1-cal-0314-0106_tess_v2_pc.fits with expected size 158022720.\n"
          ]
        },
        {
          "output_type": "stream",
          "name": "stdout",
          "text": [
            "INFO: Found cached file ./mastDownload/HLSP/hlsp_eleanor_tess_ffi_postcard-s0001-4-1-cal-0314-0106_tess_v2_pc/hlsp_eleanor_tess_ffi_postcard-s0001-4-1-cal-0314-0106_tess_v2_bkg.fits with expected size 78955200. [astroquery.query]\n",
            "INFO: Found cached file ./mastDownload/HLSP/hlsp_eleanor_tess_ffi_postcard-s0001-4-1-cal-0314-0106_tess_v2_pc/hlsp_eleanor_tess_ffi_postcard-s0001-4-1-cal-0314-0106_tess_v2_pc.fits with expected size 158022720. [astroquery.query]\n"
          ]
        },
        {
          "output_type": "stream",
          "name": "stderr",
          "text": [
            "INFO:astroquery:Found cached file ./mastDownload/HLSP/hlsp_eleanor_tess_ffi_postcard-s0001-4-1-cal-0314-0106_tess_v2_pc/hlsp_eleanor_tess_ffi_postcard-s0001-4-1_tess_v2_pm.txt with expected size 237847.\n"
          ]
        },
        {
          "output_type": "stream",
          "name": "stdout",
          "text": [
            "INFO: Found cached file ./mastDownload/HLSP/hlsp_eleanor_tess_ffi_postcard-s0001-4-1-cal-0314-0106_tess_v2_pc/hlsp_eleanor_tess_ffi_postcard-s0001-4-1_tess_v2_pm.txt with expected size 237847. [astroquery.query]\n",
            "added HD 23472 c to table\n",
            "ingoring star HD 260655 b\n",
            "ingoring star HD 260655 c\n"
          ]
        },
        {
          "output_type": "stream",
          "name": "stderr",
          "text": [
            "INFO:astroquery:Found cached file ./mastDownload/HLSP/hlsp_eleanor_tess_ffi_postcard-s0001-3-2-cal-0902-1942_tess_v2_pc/hlsp_eleanor_tess_ffi_postcard-s0001-3-2-cal-0902-1942_tess_v2_bkg.fits with expected size 78955200.\n",
            "INFO:astroquery:Found cached file ./mastDownload/HLSP/hlsp_eleanor_tess_ffi_postcard-s0001-3-2-cal-0902-1942_tess_v2_pc/hlsp_eleanor_tess_ffi_postcard-s0001-3-2-cal-0902-1942_tess_v2_pc.fits with expected size 158022720.\n"
          ]
        },
        {
          "output_type": "stream",
          "name": "stdout",
          "text": [
            "INFO: Found cached file ./mastDownload/HLSP/hlsp_eleanor_tess_ffi_postcard-s0001-3-2-cal-0902-1942_tess_v2_pc/hlsp_eleanor_tess_ffi_postcard-s0001-3-2-cal-0902-1942_tess_v2_bkg.fits with expected size 78955200. [astroquery.query]\n",
            "INFO: Found cached file ./mastDownload/HLSP/hlsp_eleanor_tess_ffi_postcard-s0001-3-2-cal-0902-1942_tess_v2_pc/hlsp_eleanor_tess_ffi_postcard-s0001-3-2-cal-0902-1942_tess_v2_pc.fits with expected size 158022720. [astroquery.query]\n"
          ]
        },
        {
          "output_type": "stream",
          "name": "stderr",
          "text": [
            "INFO:astroquery:Found cached file ./mastDownload/HLSP/hlsp_eleanor_tess_ffi_postcard-s0001-3-2-cal-0902-1942_tess_v2_pc/hlsp_eleanor_tess_ffi_postcard-s0001-3-2_tess_v2_pm.txt with expected size 238335.\n"
          ]
        },
        {
          "output_type": "stream",
          "name": "stdout",
          "text": [
            "INFO: Found cached file ./mastDownload/HLSP/hlsp_eleanor_tess_ffi_postcard-s0001-3-2-cal-0902-1942_tess_v2_pc/hlsp_eleanor_tess_ffi_postcard-s0001-3-2_tess_v2_pm.txt with expected size 238335. [astroquery.query]\n",
            "added HD 2685 b to table\n",
            "ingoring star HD 28109 b\n",
            "ingoring star HD 28109 c\n",
            "ingoring star HD 28109 d\n",
            "ingoring star HD 332231 b\n"
          ]
        },
        {
          "output_type": "stream",
          "name": "stderr",
          "text": [
            "INFO:astroquery:Found cached file ./mastDownload/HLSP/hlsp_eleanor_tess_ffi_postcard-s0001-3-3-cal-0216-1456_tess_v2_pc/hlsp_eleanor_tess_ffi_postcard-s0001-3-3-cal-0216-1456_tess_v2_bkg.fits with expected size 78955200.\n",
            "INFO:astroquery:Found cached file ./mastDownload/HLSP/hlsp_eleanor_tess_ffi_postcard-s0001-3-3-cal-0216-1456_tess_v2_pc/hlsp_eleanor_tess_ffi_postcard-s0001-3-3-cal-0216-1456_tess_v2_pc.fits with expected size 158022720.\n"
          ]
        },
        {
          "output_type": "stream",
          "name": "stdout",
          "text": [
            "INFO: Found cached file ./mastDownload/HLSP/hlsp_eleanor_tess_ffi_postcard-s0001-3-3-cal-0216-1456_tess_v2_pc/hlsp_eleanor_tess_ffi_postcard-s0001-3-3-cal-0216-1456_tess_v2_bkg.fits with expected size 78955200. [astroquery.query]\n",
            "INFO: Found cached file ./mastDownload/HLSP/hlsp_eleanor_tess_ffi_postcard-s0001-3-3-cal-0216-1456_tess_v2_pc/hlsp_eleanor_tess_ffi_postcard-s0001-3-3-cal-0216-1456_tess_v2_pc.fits with expected size 158022720. [astroquery.query]\n"
          ]
        },
        {
          "output_type": "stream",
          "name": "stderr",
          "text": [
            "INFO:astroquery:Found cached file ./mastDownload/HLSP/hlsp_eleanor_tess_ffi_postcard-s0001-3-3-cal-0216-1456_tess_v2_pc/hlsp_eleanor_tess_ffi_postcard-s0001-3-3_tess_v2_pm.txt with expected size 241050.\n"
          ]
        },
        {
          "output_type": "stream",
          "name": "stdout",
          "text": [
            "INFO: Found cached file ./mastDownload/HLSP/hlsp_eleanor_tess_ffi_postcard-s0001-3-3-cal-0216-1456_tess_v2_pc/hlsp_eleanor_tess_ffi_postcard-s0001-3-3_tess_v2_pm.txt with expected size 241050. [astroquery.query]\n",
            "added HD 5278 b to table\n"
          ]
        },
        {
          "output_type": "stream",
          "name": "stderr",
          "text": [
            "INFO:astroquery:Found cached file ./mastDownload/HLSP/hlsp_eleanor_tess_ffi_postcard-s0001-4-3-cal-1000-1726_tess_v2_pc/hlsp_eleanor_tess_ffi_postcard-s0001-4-3-cal-1000-1726_tess_v2_bkg.fits with expected size 78955200.\n",
            "INFO:astroquery:Found cached file ./mastDownload/HLSP/hlsp_eleanor_tess_ffi_postcard-s0001-4-3-cal-1000-1726_tess_v2_pc/hlsp_eleanor_tess_ffi_postcard-s0001-4-3-cal-1000-1726_tess_v2_pc.fits with expected size 158022720.\n",
            "INFO:astroquery:Found cached file ./mastDownload/HLSP/hlsp_eleanor_tess_ffi_postcard-s0001-4-3-cal-1000-1726_tess_v2_pc/hlsp_eleanor_tess_ffi_postcard-s0001-4-3_tess_v2_pm.txt with expected size 240163.\n"
          ]
        },
        {
          "output_type": "stream",
          "name": "stdout",
          "text": [
            "INFO: Found cached file ./mastDownload/HLSP/hlsp_eleanor_tess_ffi_postcard-s0001-4-3-cal-1000-1726_tess_v2_pc/hlsp_eleanor_tess_ffi_postcard-s0001-4-3-cal-1000-1726_tess_v2_bkg.fits with expected size 78955200. [astroquery.query]\n",
            "INFO: Found cached file ./mastDownload/HLSP/hlsp_eleanor_tess_ffi_postcard-s0001-4-3-cal-1000-1726_tess_v2_pc/hlsp_eleanor_tess_ffi_postcard-s0001-4-3-cal-1000-1726_tess_v2_pc.fits with expected size 158022720. [astroquery.query]\n",
            "INFO: Found cached file ./mastDownload/HLSP/hlsp_eleanor_tess_ffi_postcard-s0001-4-3-cal-1000-1726_tess_v2_pc/hlsp_eleanor_tess_ffi_postcard-s0001-4-3_tess_v2_pm.txt with expected size 240163. [astroquery.query]\n",
            "added HD 56414 b to table\n",
            "ingoring star HD 63433 b\n",
            "ingoring star HD 63433 c\n",
            "ingoring star HD 63935 b\n",
            "ingoring star HD 73583 b\n",
            "ingoring star HD 73583 c\n",
            "ingoring star HD 86226 c\n",
            "ingoring star HD 93963 A b\n",
            "ingoring star HD 93963 A c\n",
            "ingoring star HIP 65 A b\n",
            "ingoring star HIP 67522 b\n",
            "ingoring star HIP 94235 b\n",
            "ingoring star HIP 97166 b\n",
            "ingoring star HR 858 b\n",
            "ingoring star HR 858 c\n",
            "ingoring star HR 858 d\n",
            "ingoring star L 168-9 b\n",
            "ingoring star L 98-59 b\n",
            "ingoring star L 98-59 c\n",
            "ingoring star L 98-59 d\n",
            "ingoring star LHS 1478 b\n",
            "ingoring star LHS 1678 b\n",
            "ingoring star LHS 1678 c\n",
            "ingoring star LHS 1815 b\n",
            "ingoring star LHS 3844 b\n",
            "ingoring star LP 714-47 b\n",
            "ingoring star LP 791-18 b\n",
            "ingoring star LP 791-18 c\n",
            "ingoring star LP 890-9 b\n",
            "ingoring star LTT 1445 A b\n",
            "ingoring star LTT 1445 A c\n",
            "ingoring star LTT 3780 b\n",
            "ingoring star LTT 3780 c\n",
            "ingoring star LTT 9779 b\n",
            "ingoring star NGTS-11 b\n",
            "ingoring star NGTS-20 b\n",
            "ingoring star TIC 172900988 b\n",
            "ingoring star TIC 237913194 b\n",
            "ingoring star TIC 257060897 b\n"
          ]
        },
        {
          "output_type": "stream",
          "name": "stderr",
          "text": [
            "INFO:astroquery:Found cached file ./mastDownload/HLSP/hlsp_eleanor_tess_ffi_postcard-s0001-3-3-cal-1392-1078_tess_v2_pc/hlsp_eleanor_tess_ffi_postcard-s0001-3-3-cal-1392-1078_tess_v2_bkg.fits with expected size 78955200.\n",
            "INFO:astroquery:Found cached file ./mastDownload/HLSP/hlsp_eleanor_tess_ffi_postcard-s0001-3-3-cal-1392-1078_tess_v2_pc/hlsp_eleanor_tess_ffi_postcard-s0001-3-3-cal-1392-1078_tess_v2_pc.fits with expected size 158022720.\n",
            "INFO:astroquery:Found cached file ./mastDownload/HLSP/hlsp_eleanor_tess_ffi_postcard-s0001-3-3-cal-1392-1078_tess_v2_pc/hlsp_eleanor_tess_ffi_postcard-s0001-3-3_tess_v2_pm.txt with expected size 241050.\n"
          ]
        },
        {
          "output_type": "stream",
          "name": "stdout",
          "text": [
            "INFO: Found cached file ./mastDownload/HLSP/hlsp_eleanor_tess_ffi_postcard-s0001-3-3-cal-1392-1078_tess_v2_pc/hlsp_eleanor_tess_ffi_postcard-s0001-3-3-cal-1392-1078_tess_v2_bkg.fits with expected size 78955200. [astroquery.query]\n",
            "INFO: Found cached file ./mastDownload/HLSP/hlsp_eleanor_tess_ffi_postcard-s0001-3-3-cal-1392-1078_tess_v2_pc/hlsp_eleanor_tess_ffi_postcard-s0001-3-3-cal-1392-1078_tess_v2_pc.fits with expected size 158022720. [astroquery.query]\n",
            "INFO: Found cached file ./mastDownload/HLSP/hlsp_eleanor_tess_ffi_postcard-s0001-3-3-cal-1392-1078_tess_v2_pc/hlsp_eleanor_tess_ffi_postcard-s0001-3-3_tess_v2_pm.txt with expected size 241050. [astroquery.query]\n",
            "added TOI-1062 b to table\n"
          ]
        },
        {
          "output_type": "stream",
          "name": "stderr",
          "text": [
            "INFO:astroquery:Found cached file ./mastDownload/HLSP/hlsp_eleanor_tess_ffi_postcard-s0001-3-3-cal-1392-1078_tess_v2_pc/hlsp_eleanor_tess_ffi_postcard-s0001-3-3-cal-1392-1078_tess_v2_bkg.fits with expected size 78955200.\n",
            "INFO:astroquery:Found cached file ./mastDownload/HLSP/hlsp_eleanor_tess_ffi_postcard-s0001-3-3-cal-1392-1078_tess_v2_pc/hlsp_eleanor_tess_ffi_postcard-s0001-3-3-cal-1392-1078_tess_v2_pc.fits with expected size 158022720.\n"
          ]
        },
        {
          "output_type": "stream",
          "name": "stdout",
          "text": [
            "INFO: Found cached file ./mastDownload/HLSP/hlsp_eleanor_tess_ffi_postcard-s0001-3-3-cal-1392-1078_tess_v2_pc/hlsp_eleanor_tess_ffi_postcard-s0001-3-3-cal-1392-1078_tess_v2_bkg.fits with expected size 78955200. [astroquery.query]\n",
            "INFO: Found cached file ./mastDownload/HLSP/hlsp_eleanor_tess_ffi_postcard-s0001-3-3-cal-1392-1078_tess_v2_pc/hlsp_eleanor_tess_ffi_postcard-s0001-3-3-cal-1392-1078_tess_v2_pc.fits with expected size 158022720. [astroquery.query]\n"
          ]
        },
        {
          "output_type": "stream",
          "name": "stderr",
          "text": [
            "INFO:astroquery:Found cached file ./mastDownload/HLSP/hlsp_eleanor_tess_ffi_postcard-s0001-3-3-cal-1392-1078_tess_v2_pc/hlsp_eleanor_tess_ffi_postcard-s0001-3-3_tess_v2_pm.txt with expected size 241050.\n"
          ]
        },
        {
          "output_type": "stream",
          "name": "stdout",
          "text": [
            "INFO: Found cached file ./mastDownload/HLSP/hlsp_eleanor_tess_ffi_postcard-s0001-3-3-cal-1392-1078_tess_v2_pc/hlsp_eleanor_tess_ffi_postcard-s0001-3-3_tess_v2_pm.txt with expected size 241050. [astroquery.query]\n",
            "added TOI-1062 c to table\n",
            "ingoring star TOI-1064 b\n",
            "ingoring star TOI-1064 c\n",
            "ingoring star TOI-1075 b\n",
            "ingoring star TOI-1107 b\n",
            "ingoring star TOI-1130 b\n",
            "ingoring star TOI-1130 c\n",
            "ingoring star TOI-1181 b\n",
            "ingoring star TOI-1201 b\n"
          ]
        },
        {
          "output_type": "stream",
          "name": "stderr",
          "text": [
            "INFO:astroquery:Found cached file ./mastDownload/HLSP/hlsp_eleanor_tess_ffi_postcard-s0001-2-1-cal-1392-1726_tess_v2_pc/hlsp_eleanor_tess_ffi_postcard-s0001-2-1-cal-1392-1726_tess_v2_bkg.fits with expected size 78955200.\n",
            "INFO:astroquery:Found cached file ./mastDownload/HLSP/hlsp_eleanor_tess_ffi_postcard-s0001-2-1-cal-1392-1726_tess_v2_pc/hlsp_eleanor_tess_ffi_postcard-s0001-2-1-cal-1392-1726_tess_v2_pc.fits with expected size 158022720.\n"
          ]
        },
        {
          "output_type": "stream",
          "name": "stdout",
          "text": [
            "INFO: Found cached file ./mastDownload/HLSP/hlsp_eleanor_tess_ffi_postcard-s0001-2-1-cal-1392-1726_tess_v2_pc/hlsp_eleanor_tess_ffi_postcard-s0001-2-1-cal-1392-1726_tess_v2_bkg.fits with expected size 78955200. [astroquery.query]\n",
            "INFO: Found cached file ./mastDownload/HLSP/hlsp_eleanor_tess_ffi_postcard-s0001-2-1-cal-1392-1726_tess_v2_pc/hlsp_eleanor_tess_ffi_postcard-s0001-2-1-cal-1392-1726_tess_v2_pc.fits with expected size 158022720. [astroquery.query]\n"
          ]
        },
        {
          "output_type": "stream",
          "name": "stderr",
          "text": [
            "INFO:astroquery:Found cached file ./mastDownload/HLSP/hlsp_eleanor_tess_ffi_postcard-s0001-2-1-cal-1392-1726_tess_v2_pc/hlsp_eleanor_tess_ffi_postcard-s0001-2-1_tess_v2_pm.txt with expected size 239875.\n"
          ]
        },
        {
          "output_type": "stream",
          "name": "stdout",
          "text": [
            "INFO: Found cached file ./mastDownload/HLSP/hlsp_eleanor_tess_ffi_postcard-s0001-2-1-cal-1392-1726_tess_v2_pc/hlsp_eleanor_tess_ffi_postcard-s0001-2-1_tess_v2_pm.txt with expected size 239875. [astroquery.query]\n",
            "added TOI-122 b to table\n",
            "ingoring star TOI-1227 b\n",
            "ingoring star TOI-1231 b\n",
            "ingoring star TOI-1235 b\n",
            "ingoring star TOI-1246 b\n",
            "ingoring star TOI-1246 c\n",
            "ingoring star TOI-1246 d\n",
            "ingoring star TOI-1246 e\n"
          ]
        },
        {
          "output_type": "stream",
          "name": "stderr",
          "text": [
            "INFO:astroquery:Found cached file ./mastDownload/HLSP/hlsp_eleanor_tess_ffi_postcard-s0001-3-1-cal-1196-1996_tess_v2_pc/hlsp_eleanor_tess_ffi_postcard-s0001-3-1-cal-1196-1996_tess_v2_bkg.fits with expected size 78955200.\n",
            "INFO:astroquery:Found cached file ./mastDownload/HLSP/hlsp_eleanor_tess_ffi_postcard-s0001-3-1-cal-1196-1996_tess_v2_pc/hlsp_eleanor_tess_ffi_postcard-s0001-3-1-cal-1196-1996_tess_v2_pc.fits with expected size 158022720.\n"
          ]
        },
        {
          "output_type": "stream",
          "name": "stdout",
          "text": [
            "INFO: Found cached file ./mastDownload/HLSP/hlsp_eleanor_tess_ffi_postcard-s0001-3-1-cal-1196-1996_tess_v2_pc/hlsp_eleanor_tess_ffi_postcard-s0001-3-1-cal-1196-1996_tess_v2_bkg.fits with expected size 78955200. [astroquery.query]\n",
            "INFO: Found cached file ./mastDownload/HLSP/hlsp_eleanor_tess_ffi_postcard-s0001-3-1-cal-1196-1996_tess_v2_pc/hlsp_eleanor_tess_ffi_postcard-s0001-3-1-cal-1196-1996_tess_v2_pc.fits with expected size 158022720. [astroquery.query]\n"
          ]
        },
        {
          "output_type": "stream",
          "name": "stderr",
          "text": [
            "INFO:astroquery:Found cached file ./mastDownload/HLSP/hlsp_eleanor_tess_ffi_postcard-s0001-3-1-cal-1196-1996_tess_v2_pc/hlsp_eleanor_tess_ffi_postcard-s0001-3-1_tess_v2_pm.txt with expected size 237794.\n"
          ]
        },
        {
          "output_type": "stream",
          "name": "stdout",
          "text": [
            "INFO: Found cached file ./mastDownload/HLSP/hlsp_eleanor_tess_ffi_postcard-s0001-3-1-cal-1196-1996_tess_v2_pc/hlsp_eleanor_tess_ffi_postcard-s0001-3-1_tess_v2_pm.txt with expected size 237794. [astroquery.query]\n",
            "added TOI-125 b to table\n"
          ]
        },
        {
          "output_type": "stream",
          "name": "stderr",
          "text": [
            "INFO:astroquery:Found cached file ./mastDownload/HLSP/hlsp_eleanor_tess_ffi_postcard-s0001-3-1-cal-1196-1996_tess_v2_pc/hlsp_eleanor_tess_ffi_postcard-s0001-3-1-cal-1196-1996_tess_v2_bkg.fits with expected size 78955200.\n",
            "INFO:astroquery:Found cached file ./mastDownload/HLSP/hlsp_eleanor_tess_ffi_postcard-s0001-3-1-cal-1196-1996_tess_v2_pc/hlsp_eleanor_tess_ffi_postcard-s0001-3-1-cal-1196-1996_tess_v2_pc.fits with expected size 158022720.\n",
            "INFO:astroquery:Found cached file ./mastDownload/HLSP/hlsp_eleanor_tess_ffi_postcard-s0001-3-1-cal-1196-1996_tess_v2_pc/hlsp_eleanor_tess_ffi_postcard-s0001-3-1_tess_v2_pm.txt with expected size 237794.\n"
          ]
        },
        {
          "output_type": "stream",
          "name": "stdout",
          "text": [
            "INFO: Found cached file ./mastDownload/HLSP/hlsp_eleanor_tess_ffi_postcard-s0001-3-1-cal-1196-1996_tess_v2_pc/hlsp_eleanor_tess_ffi_postcard-s0001-3-1-cal-1196-1996_tess_v2_bkg.fits with expected size 78955200. [astroquery.query]\n",
            "INFO: Found cached file ./mastDownload/HLSP/hlsp_eleanor_tess_ffi_postcard-s0001-3-1-cal-1196-1996_tess_v2_pc/hlsp_eleanor_tess_ffi_postcard-s0001-3-1-cal-1196-1996_tess_v2_pc.fits with expected size 158022720. [astroquery.query]\n",
            "INFO: Found cached file ./mastDownload/HLSP/hlsp_eleanor_tess_ffi_postcard-s0001-3-1-cal-1196-1996_tess_v2_pc/hlsp_eleanor_tess_ffi_postcard-s0001-3-1_tess_v2_pm.txt with expected size 237794. [astroquery.query]\n",
            "added TOI-125 c to table\n"
          ]
        },
        {
          "output_type": "stream",
          "name": "stderr",
          "text": [
            "INFO:astroquery:Found cached file ./mastDownload/HLSP/hlsp_eleanor_tess_ffi_postcard-s0001-3-1-cal-1196-1996_tess_v2_pc/hlsp_eleanor_tess_ffi_postcard-s0001-3-1-cal-1196-1996_tess_v2_bkg.fits with expected size 78955200.\n",
            "INFO:astroquery:Found cached file ./mastDownload/HLSP/hlsp_eleanor_tess_ffi_postcard-s0001-3-1-cal-1196-1996_tess_v2_pc/hlsp_eleanor_tess_ffi_postcard-s0001-3-1-cal-1196-1996_tess_v2_pc.fits with expected size 158022720.\n",
            "INFO:astroquery:Found cached file ./mastDownload/HLSP/hlsp_eleanor_tess_ffi_postcard-s0001-3-1-cal-1196-1996_tess_v2_pc/hlsp_eleanor_tess_ffi_postcard-s0001-3-1_tess_v2_pm.txt with expected size 237794.\n"
          ]
        },
        {
          "output_type": "stream",
          "name": "stdout",
          "text": [
            "INFO: Found cached file ./mastDownload/HLSP/hlsp_eleanor_tess_ffi_postcard-s0001-3-1-cal-1196-1996_tess_v2_pc/hlsp_eleanor_tess_ffi_postcard-s0001-3-1-cal-1196-1996_tess_v2_bkg.fits with expected size 78955200. [astroquery.query]\n",
            "INFO: Found cached file ./mastDownload/HLSP/hlsp_eleanor_tess_ffi_postcard-s0001-3-1-cal-1196-1996_tess_v2_pc/hlsp_eleanor_tess_ffi_postcard-s0001-3-1-cal-1196-1996_tess_v2_pc.fits with expected size 158022720. [astroquery.query]\n",
            "INFO: Found cached file ./mastDownload/HLSP/hlsp_eleanor_tess_ffi_postcard-s0001-3-1-cal-1196-1996_tess_v2_pc/hlsp_eleanor_tess_ffi_postcard-s0001-3-1_tess_v2_pm.txt with expected size 237794. [astroquery.query]\n",
            "added TOI-125 d to table\n",
            "ingoring star TOI-1259 A b\n",
            "ingoring star TOI-1260 b\n",
            "ingoring star TOI-1260 c\n",
            "ingoring star TOI-1266 b\n",
            "ingoring star TOI-1266 c\n",
            "ingoring star TOI-1268 b\n",
            "ingoring star TOI-1272 b\n",
            "ingoring star TOI-1278 b\n",
            "ingoring star TOI-1296 b\n",
            "ingoring star TOI-1298 b\n"
          ]
        },
        {
          "output_type": "stream",
          "name": "stderr",
          "text": [
            "INFO:astroquery:Found cached file ./mastDownload/HLSP/hlsp_eleanor_tess_ffi_postcard-s0001-2-3-cal-1196-0322_tess_v2_pc/hlsp_eleanor_tess_ffi_postcard-s0001-2-3-cal-1196-0322_tess_v2_bkg.fits with expected size 78955200.\n",
            "INFO:astroquery:Found cached file ./mastDownload/HLSP/hlsp_eleanor_tess_ffi_postcard-s0001-2-3-cal-1196-0322_tess_v2_pc/hlsp_eleanor_tess_ffi_postcard-s0001-2-3-cal-1196-0322_tess_v2_pc.fits with expected size 158022720.\n",
            "INFO:astroquery:Found cached file ./mastDownload/HLSP/hlsp_eleanor_tess_ffi_postcard-s0001-2-3-cal-1196-0322_tess_v2_pc/hlsp_eleanor_tess_ffi_postcard-s0001-2-3_tess_v2_pm.txt with expected size 238150.\n"
          ]
        },
        {
          "output_type": "stream",
          "name": "stdout",
          "text": [
            "INFO: Found cached file ./mastDownload/HLSP/hlsp_eleanor_tess_ffi_postcard-s0001-2-3-cal-1196-0322_tess_v2_pc/hlsp_eleanor_tess_ffi_postcard-s0001-2-3-cal-1196-0322_tess_v2_bkg.fits with expected size 78955200. [astroquery.query]\n",
            "INFO: Found cached file ./mastDownload/HLSP/hlsp_eleanor_tess_ffi_postcard-s0001-2-3-cal-1196-0322_tess_v2_pc/hlsp_eleanor_tess_ffi_postcard-s0001-2-3-cal-1196-0322_tess_v2_pc.fits with expected size 158022720. [astroquery.query]\n",
            "INFO: Found cached file ./mastDownload/HLSP/hlsp_eleanor_tess_ffi_postcard-s0001-2-3-cal-1196-0322_tess_v2_pc/hlsp_eleanor_tess_ffi_postcard-s0001-2-3_tess_v2_pm.txt with expected size 238150. [astroquery.query]\n",
            "added TOI-132 b to table\n",
            "ingoring star TOI-1333 b\n"
          ]
        },
        {
          "output_type": "stream",
          "name": "stderr",
          "text": [
            "INFO:astroquery:Found cached file ./mastDownload/HLSP/hlsp_eleanor_tess_ffi_postcard-s0001-4-4-cal-0706-1132_tess_v2_pc/hlsp_eleanor_tess_ffi_postcard-s0001-4-4-cal-0706-1132_tess_v2_bkg.fits with expected size 78955200.\n",
            "INFO:astroquery:Found cached file ./mastDownload/HLSP/hlsp_eleanor_tess_ffi_postcard-s0001-4-4-cal-0706-1132_tess_v2_pc/hlsp_eleanor_tess_ffi_postcard-s0001-4-4-cal-0706-1132_tess_v2_pc.fits with expected size 158025600.\n"
          ]
        },
        {
          "output_type": "stream",
          "name": "stdout",
          "text": [
            "INFO: Found cached file ./mastDownload/HLSP/hlsp_eleanor_tess_ffi_postcard-s0001-4-4-cal-0706-1132_tess_v2_pc/hlsp_eleanor_tess_ffi_postcard-s0001-4-4-cal-0706-1132_tess_v2_bkg.fits with expected size 78955200. [astroquery.query]\n",
            "INFO: Found cached file ./mastDownload/HLSP/hlsp_eleanor_tess_ffi_postcard-s0001-4-4-cal-0706-1132_tess_v2_pc/hlsp_eleanor_tess_ffi_postcard-s0001-4-4-cal-0706-1132_tess_v2_pc.fits with expected size 158025600. [astroquery.query]\n"
          ]
        },
        {
          "output_type": "stream",
          "name": "stderr",
          "text": [
            "INFO:astroquery:Found cached file ./mastDownload/HLSP/hlsp_eleanor_tess_ffi_postcard-s0001-4-4-cal-0706-1132_tess_v2_pc/hlsp_eleanor_tess_ffi_postcard-s0001-4-4_tess_v2_pm.txt with expected size 238457.\n"
          ]
        },
        {
          "output_type": "stream",
          "name": "stdout",
          "text": [
            "INFO: Found cached file ./mastDownload/HLSP/hlsp_eleanor_tess_ffi_postcard-s0001-4-4-cal-0706-1132_tess_v2_pc/hlsp_eleanor_tess_ffi_postcard-s0001-4-4_tess_v2_pm.txt with expected size 238457. [astroquery.query]\n",
            "added TOI-1338 b to table\n",
            "ingoring star TOI-1411 b\n",
            "ingoring star TOI-1422 b\n",
            "ingoring star TOI-1431 b\n",
            "ingoring star TOI-1442 b\n",
            "ingoring star TOI-1444 b\n",
            "ingoring star TOI-1452 b\n",
            "ingoring star TOI-1478 b\n",
            "Downloading URL https://mast.stsci.edu/api/v0.1/Download/file?uri=mast:HLSP/eleanor/postcards/s0001/4-2/hlsp_eleanor_tess_ffi_postcard-s0001-4-2-cal-1784-1888_tess_v2_bkg.fits to ./mastDownload/HLSP/hlsp_eleanor_tess_ffi_postcard-s0001-4-2-cal-1784-1888_tess_v2_pc/hlsp_eleanor_tess_ffi_postcard-s0001-4-2-cal-1784-1888_tess_v2_bkg.fits ... [Done]\n",
            "Downloading URL https://mast.stsci.edu/api/v0.1/Download/file?uri=mast:HLSP/eleanor/postcards/s0001/4-2/hlsp_eleanor_tess_ffi_postcard-s0001-4-2-cal-1784-1888_tess_v2_pc.fits to ./mastDownload/HLSP/hlsp_eleanor_tess_ffi_postcard-s0001-4-2-cal-1784-1888_tess_v2_pc/hlsp_eleanor_tess_ffi_postcard-s0001-4-2-cal-1784-1888_tess_v2_pc.fits ... [Done]\n",
            "Downloading URL https://mast.stsci.edu/api/v0.1/Download/file?uri=mast:HLSP/eleanor/postcards/s0001/4-2/hlsp_eleanor_tess_ffi_postcard-s0001-4-2_tess_v2_pm.txt to ./mastDownload/HLSP/hlsp_eleanor_tess_ffi_postcard-s0001-4-2-cal-1784-1888_tess_v2_pc/hlsp_eleanor_tess_ffi_postcard-s0001-4-2_tess_v2_pm.txt ... [Done]\n",
            "added TOI-150.01 to table\n",
            "ingoring star TOI-1516 b\n",
            "Downloading URL https://mast.stsci.edu/api/v0.1/Download/file?uri=mast:HLSP/eleanor/postcards/s0001/4-2/hlsp_eleanor_tess_ffi_postcard-s0001-4-2-cal-0902-0322_tess_v2_bkg.fits to ./mastDownload/HLSP/hlsp_eleanor_tess_ffi_postcard-s0001-4-2-cal-0902-0322_tess_v2_pc/hlsp_eleanor_tess_ffi_postcard-s0001-4-2-cal-0902-0322_tess_v2_bkg.fits ... [Done]\n",
            "Downloading URL https://mast.stsci.edu/api/v0.1/Download/file?uri=mast:HLSP/eleanor/postcards/s0001/4-2/hlsp_eleanor_tess_ffi_postcard-s0001-4-2-cal-0902-0322_tess_v2_pc.fits to ./mastDownload/HLSP/hlsp_eleanor_tess_ffi_postcard-s0001-4-2-cal-0902-0322_tess_v2_pc/hlsp_eleanor_tess_ffi_postcard-s0001-4-2-cal-0902-0322_tess_v2_pc.fits ... [Done]\n",
            "Downloading URL https://mast.stsci.edu/api/v0.1/Download/file?uri=mast:HLSP/eleanor/postcards/s0001/4-2/hlsp_eleanor_tess_ffi_postcard-s0001-4-2_tess_v2_pm.txt to ./mastDownload/HLSP/hlsp_eleanor_tess_ffi_postcard-s0001-4-2-cal-0902-0322_tess_v2_pc/hlsp_eleanor_tess_ffi_postcard-s0001-4-2_tess_v2_pm.txt ... [Done]\n",
            "added TOI-157 b to table\n",
            "ingoring star TOI-1601 b\n",
            "Downloading URL https://mast.stsci.edu/api/v0.1/Download/file?uri=mast:HLSP/eleanor/postcards/s0001/4-2/hlsp_eleanor_tess_ffi_postcard-s0001-4-2-cal-0314-1024_tess_v2_bkg.fits to ./mastDownload/HLSP/hlsp_eleanor_tess_ffi_postcard-s0001-4-2-cal-0314-1024_tess_v2_pc/hlsp_eleanor_tess_ffi_postcard-s0001-4-2-cal-0314-1024_tess_v2_bkg.fits ... [Done]\n",
            "Downloading URL https://mast.stsci.edu/api/v0.1/Download/file?uri=mast:HLSP/eleanor/postcards/s0001/4-2/hlsp_eleanor_tess_ffi_postcard-s0001-4-2-cal-0314-1024_tess_v2_pc.fits to ./mastDownload/HLSP/hlsp_eleanor_tess_ffi_postcard-s0001-4-2-cal-0314-1024_tess_v2_pc/hlsp_eleanor_tess_ffi_postcard-s0001-4-2-cal-0314-1024_tess_v2_pc.fits ... [Done]\n",
            "Downloading URL https://mast.stsci.edu/api/v0.1/Download/file?uri=mast:HLSP/eleanor/postcards/s0001/4-2/hlsp_eleanor_tess_ffi_postcard-s0001-4-2_tess_v2_pm.txt to ./mastDownload/HLSP/hlsp_eleanor_tess_ffi_postcard-s0001-4-2-cal-0314-1024_tess_v2_pc/hlsp_eleanor_tess_ffi_postcard-s0001-4-2_tess_v2_pm.txt ... [Done]\n",
            "added TOI-163 b to table\n",
            "ingoring star TOI-1634 b\n",
            "ingoring star TOI-1670 b\n",
            "ingoring star TOI-1670 c\n",
            "ingoring star TOI-1685 b\n",
            "Downloading URL https://mast.stsci.edu/api/v0.1/Download/file?uri=mast:HLSP/eleanor/postcards/s0001/3-3/hlsp_eleanor_tess_ffi_postcard-s0001-3-3-cal-1588-1996_tess_v2_bkg.fits to ./mastDownload/HLSP/hlsp_eleanor_tess_ffi_postcard-s0001-3-3-cal-1588-1996_tess_v2_pc/hlsp_eleanor_tess_ffi_postcard-s0001-3-3-cal-1588-1996_tess_v2_bkg.fits ... [Done]\n",
            "Downloading URL https://mast.stsci.edu/api/v0.1/Download/file?uri=mast:HLSP/eleanor/postcards/s0001/3-3/hlsp_eleanor_tess_ffi_postcard-s0001-3-3-cal-1588-1996_tess_v2_pc.fits to ./mastDownload/HLSP/hlsp_eleanor_tess_ffi_postcard-s0001-3-3-cal-1588-1996_tess_v2_pc/hlsp_eleanor_tess_ffi_postcard-s0001-3-3-cal-1588-1996_tess_v2_pc.fits ... [Done]\n",
            "Downloading URL https://mast.stsci.edu/api/v0.1/Download/file?uri=mast:HLSP/eleanor/postcards/s0001/3-3/hlsp_eleanor_tess_ffi_postcard-s0001-3-3_tess_v2_pm.txt to ./mastDownload/HLSP/hlsp_eleanor_tess_ffi_postcard-s0001-3-3-cal-1588-1996_tess_v2_pc/hlsp_eleanor_tess_ffi_postcard-s0001-3-3_tess_v2_pm.txt ... [Done]\n",
            "added TOI-169 b to table\n",
            "ingoring star TOI-1693 b\n",
            "ingoring star TOI-1696 b\n",
            "ingoring star TOI-1710 b\n",
            "Downloading URL https://mast.stsci.edu/api/v0.1/Download/file?uri=mast:HLSP/eleanor/postcards/s0001/1-4/hlsp_eleanor_tess_ffi_postcard-s0001-1-4-cal-0804-0646_tess_v2_bkg.fits to ./mastDownload/HLSP/hlsp_eleanor_tess_ffi_postcard-s0001-1-4-cal-0804-0646_tess_v2_pc/hlsp_eleanor_tess_ffi_postcard-s0001-1-4-cal-0804-0646_tess_v2_bkg.fits ... [Done]\n",
            "Downloading URL https://mast.stsci.edu/api/v0.1/Download/file?uri=mast:HLSP/eleanor/postcards/s0001/1-4/hlsp_eleanor_tess_ffi_postcard-s0001-1-4-cal-0804-0646_tess_v2_pc.fits to ./mastDownload/HLSP/hlsp_eleanor_tess_ffi_postcard-s0001-1-4-cal-0804-0646_tess_v2_pc/hlsp_eleanor_tess_ffi_postcard-s0001-1-4-cal-0804-0646_tess_v2_pc.fits ... [Done]\n",
            "Downloading URL https://mast.stsci.edu/api/v0.1/Download/file?uri=mast:HLSP/eleanor/postcards/s0001/1-4/hlsp_eleanor_tess_ffi_postcard-s0001-1-4_tess_v2_pm.txt to ./mastDownload/HLSP/hlsp_eleanor_tess_ffi_postcard-s0001-1-4-cal-0804-0646_tess_v2_pc/hlsp_eleanor_tess_ffi_postcard-s0001-1-4_tess_v2_pm.txt ... [Done]\n",
            "added TOI-172 b to table\n",
            "ingoring star TOI-1728 b\n",
            "ingoring star TOI-1749 b\n",
            "ingoring star TOI-1749 c\n",
            "ingoring star TOI-1749 d\n",
            "ingoring star TOI-1759 b\n",
            "ingoring star TOI-178 b\n",
            "ingoring star TOI-178 c\n",
            "ingoring star TOI-178 d\n",
            "ingoring star TOI-178 e\n",
            "ingoring star TOI-178 g\n",
            "ingoring star TOI-1789 b\n",
            "ingoring star TOI-1807 b\n",
            "ingoring star TOI-1820 b\n",
            "ingoring star TOI-1842 b\n",
            "ingoring star TOI-1860 b\n",
            "ingoring star TOI-1899 b\n",
            "Downloading URL https://mast.stsci.edu/api/v0.1/Download/file?uri=mast:HLSP/eleanor/postcards/s0001/4-4/hlsp_eleanor_tess_ffi_postcard-s0001-4-4-cal-1588-0862_tess_v2_bkg.fits to ./mastDownload/HLSP/hlsp_eleanor_tess_ffi_postcard-s0001-4-4-cal-1588-0862_tess_v2_pc/hlsp_eleanor_tess_ffi_postcard-s0001-4-4-cal-1588-0862_tess_v2_bkg.fits ... [Done]\n",
            "Downloading URL https://mast.stsci.edu/api/v0.1/Download/file?uri=mast:HLSP/eleanor/postcards/s0001/4-4/hlsp_eleanor_tess_ffi_postcard-s0001-4-4-cal-1588-0862_tess_v2_pc.fits to ./mastDownload/HLSP/hlsp_eleanor_tess_ffi_postcard-s0001-4-4-cal-1588-0862_tess_v2_pc/hlsp_eleanor_tess_ffi_postcard-s0001-4-4-cal-1588-0862_tess_v2_pc.fits ... [Done]\n",
            "Downloading URL https://mast.stsci.edu/api/v0.1/Download/file?uri=mast:HLSP/eleanor/postcards/s0001/4-4/hlsp_eleanor_tess_ffi_postcard-s0001-4-4_tess_v2_pm.txt to ./mastDownload/HLSP/hlsp_eleanor_tess_ffi_postcard-s0001-4-4-cal-1588-0862_tess_v2_pc/hlsp_eleanor_tess_ffi_postcard-s0001-4-4_tess_v2_pm.txt ... [Done]\n",
            "added TOI-201 b to table\n",
            "ingoring star TOI-2025 b\n",
            "ingoring star TOI-2046 b\n",
            "ingoring star TOI-2048 b\n",
            "Downloading URL https://mast.stsci.edu/api/v0.1/Download/file?uri=mast:HLSP/eleanor/postcards/s0001/4-1/hlsp_eleanor_tess_ffi_postcard-s0001-4-1-cal-0902-1564_tess_v2_bkg.fits to ./mastDownload/HLSP/hlsp_eleanor_tess_ffi_postcard-s0001-4-1-cal-0902-1564_tess_v2_pc/hlsp_eleanor_tess_ffi_postcard-s0001-4-1-cal-0902-1564_tess_v2_bkg.fits ... [Done]\n",
            "Downloading URL https://mast.stsci.edu/api/v0.1/Download/file?uri=mast:HLSP/eleanor/postcards/s0001/4-1/hlsp_eleanor_tess_ffi_postcard-s0001-4-1-cal-0902-1564_tess_v2_pc.fits to ./mastDownload/HLSP/hlsp_eleanor_tess_ffi_postcard-s0001-4-1-cal-0902-1564_tess_v2_pc/hlsp_eleanor_tess_ffi_postcard-s0001-4-1-cal-0902-1564_tess_v2_pc.fits ... [Done]\n",
            "Downloading URL https://mast.stsci.edu/api/v0.1/Download/file?uri=mast:HLSP/eleanor/postcards/s0001/4-1/hlsp_eleanor_tess_ffi_postcard-s0001-4-1_tess_v2_pm.txt to ./mastDownload/HLSP/hlsp_eleanor_tess_ffi_postcard-s0001-4-1-cal-0902-1564_tess_v2_pc/hlsp_eleanor_tess_ffi_postcard-s0001-4-1_tess_v2_pm.txt ... [Done]\n",
            "added TOI-206 b to table\n",
            "ingoring star TOI-2076 b\n",
            "ingoring star TOI-2076 c\n",
            "ingoring star TOI-2076 d\n",
            "ingoring star TOI-2081 b\n",
            "ingoring star TOI-2109 b\n",
            "ingoring star TOI-2136 b\n",
            "ingoring star TOI-2158 b\n",
            "Downloading URL https://mast.stsci.edu/api/v0.1/Download/file?uri=mast:HLSP/eleanor/postcards/s0001/4-1/hlsp_eleanor_tess_ffi_postcard-s0001-4-1-cal-1000-1510_tess_v2_bkg.fits to ./mastDownload/HLSP/hlsp_eleanor_tess_ffi_postcard-s0001-4-1-cal-1000-1510_tess_v2_pc/hlsp_eleanor_tess_ffi_postcard-s0001-4-1-cal-1000-1510_tess_v2_bkg.fits ... [Done]\n",
            "Downloading URL https://mast.stsci.edu/api/v0.1/Download/file?uri=mast:HLSP/eleanor/postcards/s0001/4-1/hlsp_eleanor_tess_ffi_postcard-s0001-4-1-cal-1000-1510_tess_v2_pc.fits to ./mastDownload/HLSP/hlsp_eleanor_tess_ffi_postcard-s0001-4-1-cal-1000-1510_tess_v2_pc/hlsp_eleanor_tess_ffi_postcard-s0001-4-1-cal-1000-1510_tess_v2_pc.fits ... [Done]\n",
            "Downloading URL https://mast.stsci.edu/api/v0.1/Download/file?uri=mast:HLSP/eleanor/postcards/s0001/4-1/hlsp_eleanor_tess_ffi_postcard-s0001-4-1_tess_v2_pm.txt to ./mastDownload/HLSP/hlsp_eleanor_tess_ffi_postcard-s0001-4-1-cal-1000-1510_tess_v2_pc/hlsp_eleanor_tess_ffi_postcard-s0001-4-1_tess_v2_pm.txt ... [Done]\n",
            "added TOI-216.01 to table\n"
          ]
        },
        {
          "output_type": "stream",
          "name": "stderr",
          "text": [
            "INFO:astroquery:Found cached file ./mastDownload/HLSP/hlsp_eleanor_tess_ffi_postcard-s0001-4-1-cal-1000-1510_tess_v2_pc/hlsp_eleanor_tess_ffi_postcard-s0001-4-1-cal-1000-1510_tess_v2_bkg.fits with expected size 78955200.\n",
            "INFO:astroquery:Found cached file ./mastDownload/HLSP/hlsp_eleanor_tess_ffi_postcard-s0001-4-1-cal-1000-1510_tess_v2_pc/hlsp_eleanor_tess_ffi_postcard-s0001-4-1-cal-1000-1510_tess_v2_pc.fits with expected size 158022720.\n"
          ]
        },
        {
          "output_type": "stream",
          "name": "stdout",
          "text": [
            "INFO: Found cached file ./mastDownload/HLSP/hlsp_eleanor_tess_ffi_postcard-s0001-4-1-cal-1000-1510_tess_v2_pc/hlsp_eleanor_tess_ffi_postcard-s0001-4-1-cal-1000-1510_tess_v2_bkg.fits with expected size 78955200. [astroquery.query]\n",
            "INFO: Found cached file ./mastDownload/HLSP/hlsp_eleanor_tess_ffi_postcard-s0001-4-1-cal-1000-1510_tess_v2_pc/hlsp_eleanor_tess_ffi_postcard-s0001-4-1-cal-1000-1510_tess_v2_pc.fits with expected size 158022720. [astroquery.query]\n"
          ]
        },
        {
          "output_type": "stream",
          "name": "stderr",
          "text": [
            "INFO:astroquery:Found cached file ./mastDownload/HLSP/hlsp_eleanor_tess_ffi_postcard-s0001-4-1-cal-1000-1510_tess_v2_pc/hlsp_eleanor_tess_ffi_postcard-s0001-4-1_tess_v2_pm.txt with expected size 237847.\n"
          ]
        },
        {
          "output_type": "stream",
          "name": "stdout",
          "text": [
            "INFO: Found cached file ./mastDownload/HLSP/hlsp_eleanor_tess_ffi_postcard-s0001-4-1-cal-1000-1510_tess_v2_pc/hlsp_eleanor_tess_ffi_postcard-s0001-4-1_tess_v2_pm.txt with expected size 237847. [astroquery.query]\n",
            "added TOI-216.02 to table\n",
            "ingoring star TOI-2180 b\n",
            "Downloading URL https://mast.stsci.edu/api/v0.1/Download/file?uri=mast:HLSP/eleanor/postcards/s0001/4-3/hlsp_eleanor_tess_ffi_postcard-s0001-4-3-cal-1588-1672_tess_v2_bkg.fits to ./mastDownload/HLSP/hlsp_eleanor_tess_ffi_postcard-s0001-4-3-cal-1588-1672_tess_v2_pc/hlsp_eleanor_tess_ffi_postcard-s0001-4-3-cal-1588-1672_tess_v2_bkg.fits ... [Done]\n",
            "Downloading URL https://mast.stsci.edu/api/v0.1/Download/file?uri=mast:HLSP/eleanor/postcards/s0001/4-3/hlsp_eleanor_tess_ffi_postcard-s0001-4-3-cal-1588-1672_tess_v2_pc.fits to ./mastDownload/HLSP/hlsp_eleanor_tess_ffi_postcard-s0001-4-3-cal-1588-1672_tess_v2_pc/hlsp_eleanor_tess_ffi_postcard-s0001-4-3-cal-1588-1672_tess_v2_pc.fits ... [Done]\n",
            "Downloading URL https://mast.stsci.edu/api/v0.1/Download/file?uri=mast:HLSP/eleanor/postcards/s0001/4-3/hlsp_eleanor_tess_ffi_postcard-s0001-4-3_tess_v2_pm.txt to ./mastDownload/HLSP/hlsp_eleanor_tess_ffi_postcard-s0001-4-3-cal-1588-1672_tess_v2_pc/hlsp_eleanor_tess_ffi_postcard-s0001-4-3_tess_v2_pm.txt ... [Done]\n",
            "added TOI-2184 b to table\n",
            "ingoring star TOI-2193 A b\n",
            "ingoring star TOI-2196 b\n",
            "Downloading URL https://mast.stsci.edu/api/v0.1/Download/file?uri=mast:HLSP/eleanor/postcards/s0001/4-4/hlsp_eleanor_tess_ffi_postcard-s0001-4-4-cal-0412-1456_tess_v2_bkg.fits to ./mastDownload/HLSP/hlsp_eleanor_tess_ffi_postcard-s0001-4-4-cal-0412-1456_tess_v2_pc/hlsp_eleanor_tess_ffi_postcard-s0001-4-4-cal-0412-1456_tess_v2_bkg.fits ... [Done]\n",
            "Downloading URL https://mast.stsci.edu/api/v0.1/Download/file?uri=mast:HLSP/eleanor/postcards/s0001/4-4/hlsp_eleanor_tess_ffi_postcard-s0001-4-4-cal-0412-1456_tess_v2_pc.fits to ./mastDownload/HLSP/hlsp_eleanor_tess_ffi_postcard-s0001-4-4-cal-0412-1456_tess_v2_pc/hlsp_eleanor_tess_ffi_postcard-s0001-4-4-cal-0412-1456_tess_v2_pc.fits ... [Done]\n",
            "Downloading URL https://mast.stsci.edu/api/v0.1/Download/file?uri=mast:HLSP/eleanor/postcards/s0001/4-4/hlsp_eleanor_tess_ffi_postcard-s0001-4-4_tess_v2_pm.txt to ./mastDownload/HLSP/hlsp_eleanor_tess_ffi_postcard-s0001-4-4-cal-0412-1456_tess_v2_pc/hlsp_eleanor_tess_ffi_postcard-s0001-4-4_tess_v2_pm.txt ... [Done]\n",
            "added TOI-220 b to table\n",
            "Downloading URL https://mast.stsci.edu/api/v0.1/Download/file?uri=mast:HLSP/eleanor/postcards/s0001/3-3/hlsp_eleanor_tess_ffi_postcard-s0001-3-3-cal-2018-0484_tess_v2_bkg.fits to ./mastDownload/HLSP/hlsp_eleanor_tess_ffi_postcard-s0001-3-3-cal-2018-0484_tess_v2_pc/hlsp_eleanor_tess_ffi_postcard-s0001-3-3-cal-2018-0484_tess_v2_bkg.fits ... [Done]\n",
            "Downloading URL https://mast.stsci.edu/api/v0.1/Download/file?uri=mast:HLSP/eleanor/postcards/s0001/3-3/hlsp_eleanor_tess_ffi_postcard-s0001-3-3-cal-2018-0484_tess_v2_pc.fits to ./mastDownload/HLSP/hlsp_eleanor_tess_ffi_postcard-s0001-3-3-cal-2018-0484_tess_v2_pc/hlsp_eleanor_tess_ffi_postcard-s0001-3-3-cal-2018-0484_tess_v2_pc.fits ... [Done]\n",
            "Downloading URL https://mast.stsci.edu/api/v0.1/Download/file?uri=mast:HLSP/eleanor/postcards/s0001/3-3/hlsp_eleanor_tess_ffi_postcard-s0001-3-3_tess_v2_pm.txt to ./mastDownload/HLSP/hlsp_eleanor_tess_ffi_postcard-s0001-3-3-cal-2018-0484_tess_v2_pc/hlsp_eleanor_tess_ffi_postcard-s0001-3-3_tess_v2_pm.txt ... [Done]\n",
            "added TOI-2202 b to table\n",
            "ingoring star TOI-2207 b\n",
            "ingoring star TOI-2236 b\n",
            "ingoring star TOI-2257 b\n",
            "ingoring star TOI-2260 b\n",
            "ingoring star TOI-2285 b\n",
            "ingoring star TOI-2337 b\n",
            "ingoring star TOI-237 b\n",
            "ingoring star TOI-2406 b\n",
            "ingoring star TOI-2411 b\n",
            "ingoring star TOI-2421 b\n",
            "ingoring star TOI-2427 b\n",
            "ingoring star TOI-2445 b\n",
            "ingoring star TOI-251 b\n",
            "ingoring star TOI-2567 b\n",
            "ingoring star TOI-257 b\n",
            "ingoring star TOI-2570 b\n",
            "ingoring star TOI-2669 b\n",
            "ingoring star TOI-269 b\n",
            "ingoring star TOI-270 b\n",
            "ingoring star TOI-270 c\n",
            "ingoring star TOI-270 d\n",
            "ingoring star TOI-3331 A b\n",
            "ingoring star TOI-3362 b\n",
            "ingoring star TOI-3540 A b\n",
            "ingoring star TOI-3629 b\n",
            "ingoring star TOI-3693 b\n",
            "ingoring star TOI-3714 b\n",
            "ingoring star TOI-3757 b\n",
            "ingoring star TOI-4137 b\n",
            "ingoring star TOI-421 b\n",
            "ingoring star TOI-421 c\n",
            "ingoring star TOI-431 b\n",
            "ingoring star TOI-431 c\n",
            "ingoring star TOI-431 d\n",
            "ingoring star TOI-4329 b\n",
            "ingoring star TOI-4479 b\n",
            "ingoring star TOI-451 b\n",
            "ingoring star TOI-451 c\n",
            "ingoring star TOI-451 d\n",
            "ingoring star TOI-481 b\n",
            "ingoring star TOI-500 b\n",
            "ingoring star TOI-5153 b\n",
            "ingoring star TOI-519 b\n",
            "ingoring star TOI-530 b\n",
            "ingoring star TOI-532 b\n",
            "ingoring star TOI-540 b\n",
            "ingoring star TOI-544 b\n",
            "ingoring star TOI-558 b\n",
            "ingoring star TOI-559 b\n",
            "ingoring star TOI-561 b\n",
            "ingoring star TOI-561 c\n",
            "ingoring star TOI-561 d\n",
            "ingoring star TOI-561 e\n",
            "ingoring star TOI-561 f\n",
            "ingoring star TOI-564 b\n",
            "ingoring star TOI-620 b\n",
            "ingoring star TOI-628 b\n",
            "ingoring star TOI-640 b\n",
            "ingoring star TOI-674 b\n",
            "ingoring star TOI-677 b\n",
            "Downloading URL https://mast.stsci.edu/api/v0.1/Download/file?uri=mast:HLSP/eleanor/postcards/s0001/4-3/hlsp_eleanor_tess_ffi_postcard-s0001-4-3-cal-1882-1672_tess_v2_bkg.fits to ./mastDownload/HLSP/hlsp_eleanor_tess_ffi_postcard-s0001-4-3-cal-1882-1672_tess_v2_pc/hlsp_eleanor_tess_ffi_postcard-s0001-4-3-cal-1882-1672_tess_v2_bkg.fits ... [Done]\n",
            "Downloading URL https://mast.stsci.edu/api/v0.1/Download/file?uri=mast:HLSP/eleanor/postcards/s0001/4-3/hlsp_eleanor_tess_ffi_postcard-s0001-4-3-cal-1882-1672_tess_v2_pc.fits to ./mastDownload/HLSP/hlsp_eleanor_tess_ffi_postcard-s0001-4-3-cal-1882-1672_tess_v2_pc/hlsp_eleanor_tess_ffi_postcard-s0001-4-3-cal-1882-1672_tess_v2_pc.fits ... [Done]\n",
            "Downloading URL https://mast.stsci.edu/api/v0.1/Download/file?uri=mast:HLSP/eleanor/postcards/s0001/4-3/hlsp_eleanor_tess_ffi_postcard-s0001-4-3_tess_v2_pm.txt to ./mastDownload/HLSP/hlsp_eleanor_tess_ffi_postcard-s0001-4-3-cal-1882-1672_tess_v2_pc/hlsp_eleanor_tess_ffi_postcard-s0001-4-3_tess_v2_pm.txt ... [Done]\n",
            "added TOI-700 b to table\n"
          ]
        },
        {
          "output_type": "stream",
          "name": "stderr",
          "text": [
            "INFO:astroquery:Found cached file ./mastDownload/HLSP/hlsp_eleanor_tess_ffi_postcard-s0001-4-3-cal-1882-1672_tess_v2_pc/hlsp_eleanor_tess_ffi_postcard-s0001-4-3-cal-1882-1672_tess_v2_bkg.fits with expected size 78955200.\n",
            "INFO:astroquery:Found cached file ./mastDownload/HLSP/hlsp_eleanor_tess_ffi_postcard-s0001-4-3-cal-1882-1672_tess_v2_pc/hlsp_eleanor_tess_ffi_postcard-s0001-4-3-cal-1882-1672_tess_v2_pc.fits with expected size 158022720.\n",
            "INFO:astroquery:Found cached file ./mastDownload/HLSP/hlsp_eleanor_tess_ffi_postcard-s0001-4-3-cal-1882-1672_tess_v2_pc/hlsp_eleanor_tess_ffi_postcard-s0001-4-3_tess_v2_pm.txt with expected size 240163.\n"
          ]
        },
        {
          "output_type": "stream",
          "name": "stdout",
          "text": [
            "INFO: Found cached file ./mastDownload/HLSP/hlsp_eleanor_tess_ffi_postcard-s0001-4-3-cal-1882-1672_tess_v2_pc/hlsp_eleanor_tess_ffi_postcard-s0001-4-3-cal-1882-1672_tess_v2_bkg.fits with expected size 78955200. [astroquery.query]\n",
            "INFO: Found cached file ./mastDownload/HLSP/hlsp_eleanor_tess_ffi_postcard-s0001-4-3-cal-1882-1672_tess_v2_pc/hlsp_eleanor_tess_ffi_postcard-s0001-4-3-cal-1882-1672_tess_v2_pc.fits with expected size 158022720. [astroquery.query]\n",
            "INFO: Found cached file ./mastDownload/HLSP/hlsp_eleanor_tess_ffi_postcard-s0001-4-3-cal-1882-1672_tess_v2_pc/hlsp_eleanor_tess_ffi_postcard-s0001-4-3_tess_v2_pm.txt with expected size 240163. [astroquery.query]\n",
            "added TOI-700 c to table\n"
          ]
        },
        {
          "output_type": "stream",
          "name": "stderr",
          "text": [
            "INFO:astroquery:Found cached file ./mastDownload/HLSP/hlsp_eleanor_tess_ffi_postcard-s0001-4-3-cal-1882-1672_tess_v2_pc/hlsp_eleanor_tess_ffi_postcard-s0001-4-3-cal-1882-1672_tess_v2_bkg.fits with expected size 78955200.\n",
            "INFO:astroquery:Found cached file ./mastDownload/HLSP/hlsp_eleanor_tess_ffi_postcard-s0001-4-3-cal-1882-1672_tess_v2_pc/hlsp_eleanor_tess_ffi_postcard-s0001-4-3-cal-1882-1672_tess_v2_pc.fits with expected size 158022720.\n",
            "INFO:astroquery:Found cached file ./mastDownload/HLSP/hlsp_eleanor_tess_ffi_postcard-s0001-4-3-cal-1882-1672_tess_v2_pc/hlsp_eleanor_tess_ffi_postcard-s0001-4-3_tess_v2_pm.txt with expected size 240163.\n"
          ]
        },
        {
          "output_type": "stream",
          "name": "stdout",
          "text": [
            "INFO: Found cached file ./mastDownload/HLSP/hlsp_eleanor_tess_ffi_postcard-s0001-4-3-cal-1882-1672_tess_v2_pc/hlsp_eleanor_tess_ffi_postcard-s0001-4-3-cal-1882-1672_tess_v2_bkg.fits with expected size 78955200. [astroquery.query]\n",
            "INFO: Found cached file ./mastDownload/HLSP/hlsp_eleanor_tess_ffi_postcard-s0001-4-3-cal-1882-1672_tess_v2_pc/hlsp_eleanor_tess_ffi_postcard-s0001-4-3-cal-1882-1672_tess_v2_pc.fits with expected size 158022720. [astroquery.query]\n",
            "INFO: Found cached file ./mastDownload/HLSP/hlsp_eleanor_tess_ffi_postcard-s0001-4-3-cal-1882-1672_tess_v2_pc/hlsp_eleanor_tess_ffi_postcard-s0001-4-3_tess_v2_pm.txt with expected size 240163. [astroquery.query]\n",
            "added TOI-700 d to table\n",
            "ingoring star TOI-712 b\n",
            "ingoring star TOI-712 c\n",
            "ingoring star TOI-712 d\n",
            "ingoring star TOI-763 b\n",
            "ingoring star TOI-763 c\n",
            "ingoring star TOI-776 b\n",
            "ingoring star TOI-776 c\n",
            "Downloading URL https://mast.stsci.edu/api/v0.1/Download/file?uri=mast:HLSP/eleanor/postcards/s0001/4-1/hlsp_eleanor_tess_ffi_postcard-s0001-4-1-cal-0608-1618_tess_v2_bkg.fits to ./mastDownload/HLSP/hlsp_eleanor_tess_ffi_postcard-s0001-4-1-cal-0608-1618_tess_v2_pc/hlsp_eleanor_tess_ffi_postcard-s0001-4-1-cal-0608-1618_tess_v2_bkg.fits ... [Done]\n",
            "Downloading URL https://mast.stsci.edu/api/v0.1/Download/file?uri=mast:HLSP/eleanor/postcards/s0001/4-1/hlsp_eleanor_tess_ffi_postcard-s0001-4-1-cal-0608-1618_tess_v2_pc.fits to ./mastDownload/HLSP/hlsp_eleanor_tess_ffi_postcard-s0001-4-1-cal-0608-1618_tess_v2_pc/hlsp_eleanor_tess_ffi_postcard-s0001-4-1-cal-0608-1618_tess_v2_pc.fits ... [Done]\n",
            "Downloading URL https://mast.stsci.edu/api/v0.1/Download/file?uri=mast:HLSP/eleanor/postcards/s0001/4-1/hlsp_eleanor_tess_ffi_postcard-s0001-4-1_tess_v2_pm.txt to ./mastDownload/HLSP/hlsp_eleanor_tess_ffi_postcard-s0001-4-1-cal-0608-1618_tess_v2_pc/hlsp_eleanor_tess_ffi_postcard-s0001-4-1_tess_v2_pm.txt ... [Done]\n",
            "added TOI-813 b to table\n",
            "ingoring star TOI-824 b\n",
            "ingoring star TOI-833 b\n",
            "ingoring star TOI-837 b\n",
            "ingoring star TOI-849 b\n",
            "ingoring star TOI-892 b\n",
            "ingoring star TOI-905 b\n",
            "ingoring star TOI-942 b\n",
            "ingoring star TOI-942 c\n",
            "ingoring star TOI-954 b\n",
            "Downloading URL https://mast.stsci.edu/api/v0.1/Download/file?uri=mast:HLSP/eleanor/postcards/s0001/4-1/hlsp_eleanor_tess_ffi_postcard-s0001-4-1-cal-1588-0376_tess_v2_bkg.fits to ./mastDownload/HLSP/hlsp_eleanor_tess_ffi_postcard-s0001-4-1-cal-1588-0376_tess_v2_pc/hlsp_eleanor_tess_ffi_postcard-s0001-4-1-cal-1588-0376_tess_v2_bkg.fits ... [Done]\n",
            "Downloading URL https://mast.stsci.edu/api/v0.1/Download/file?uri=mast:HLSP/eleanor/postcards/s0001/4-1/hlsp_eleanor_tess_ffi_postcard-s0001-4-1-cal-1588-0376_tess_v2_pc.fits to ./mastDownload/HLSP/hlsp_eleanor_tess_ffi_postcard-s0001-4-1-cal-1588-0376_tess_v2_pc/hlsp_eleanor_tess_ffi_postcard-s0001-4-1-cal-1588-0376_tess_v2_pc.fits ... [Done]\n",
            "Downloading URL https://mast.stsci.edu/api/v0.1/Download/file?uri=mast:HLSP/eleanor/postcards/s0001/4-1/hlsp_eleanor_tess_ffi_postcard-s0001-4-1_tess_v2_pm.txt to ./mastDownload/HLSP/hlsp_eleanor_tess_ffi_postcard-s0001-4-1-cal-1588-0376_tess_v2_pc/hlsp_eleanor_tess_ffi_postcard-s0001-4-1_tess_v2_pm.txt ... [Done]\n",
            "added WASP-126 c to table\n",
            "ingoring star WASP-132 c\n",
            "ingoring star WASP-18 c\n",
            "ingoring star WD 1856+534 b\n",
            "Downloading URL https://mast.stsci.edu/api/v0.1/Download/file?uri=mast:HLSP/eleanor/postcards/s0001/4-2/hlsp_eleanor_tess_ffi_postcard-s0001-4-2-cal-1588-0268_tess_v2_bkg.fits to ./mastDownload/HLSP/hlsp_eleanor_tess_ffi_postcard-s0001-4-2-cal-1588-0268_tess_v2_pc/hlsp_eleanor_tess_ffi_postcard-s0001-4-2-cal-1588-0268_tess_v2_bkg.fits ... [Done]\n",
            "Downloading URL https://mast.stsci.edu/api/v0.1/Download/file?uri=mast:HLSP/eleanor/postcards/s0001/4-2/hlsp_eleanor_tess_ffi_postcard-s0001-4-2-cal-1588-0268_tess_v2_pc.fits to ./mastDownload/HLSP/hlsp_eleanor_tess_ffi_postcard-s0001-4-2-cal-1588-0268_tess_v2_pc/hlsp_eleanor_tess_ffi_postcard-s0001-4-2-cal-1588-0268_tess_v2_pc.fits ... [Done]\n",
            "Downloading URL https://mast.stsci.edu/api/v0.1/Download/file?uri=mast:HLSP/eleanor/postcards/s0001/4-2/hlsp_eleanor_tess_ffi_postcard-s0001-4-2_tess_v2_pm.txt to ./mastDownload/HLSP/hlsp_eleanor_tess_ffi_postcard-s0001-4-2-cal-1588-0268_tess_v2_pc/hlsp_eleanor_tess_ffi_postcard-s0001-4-2_tess_v2_pm.txt ... [Done]\n",
            "added pi Men c to table\n"
          ]
        }
      ]
    },
    {
      "cell_type": "code",
      "source": [
        "\n",
        "star = eleanor.Source(name='TOI-824 b', sector=1)"
      ],
      "metadata": {
        "colab": {
          "base_uri": "https://localhost:8080/",
          "height": 321
        },
        "id": "X5bc8tWzD-S0",
        "outputId": "38d27b90-de4c-4ee0-d47f-b11a9f30002b"
      },
      "execution_count": 16,
      "outputs": [
        {
          "output_type": "error",
          "ename": "IndexError",
          "evalue": "ignored",
          "traceback": [
            "\u001b[0;31m---------------------------------------------------------------------------\u001b[0m",
            "\u001b[0;31mIndexError\u001b[0m                                Traceback (most recent call last)",
            "\u001b[0;32m<ipython-input-16-83f95a4d5872>\u001b[0m in \u001b[0;36m<module>\u001b[0;34m\u001b[0m\n\u001b[0;32m----> 1\u001b[0;31m \u001b[0mstar\u001b[0m \u001b[0;34m=\u001b[0m \u001b[0meleanor\u001b[0m\u001b[0;34m.\u001b[0m\u001b[0mSource\u001b[0m\u001b[0;34m(\u001b[0m\u001b[0mname\u001b[0m\u001b[0;34m=\u001b[0m\u001b[0;34m'TOI-824 b'\u001b[0m\u001b[0;34m,\u001b[0m \u001b[0msector\u001b[0m\u001b[0;34m=\u001b[0m\u001b[0;36m1\u001b[0m\u001b[0;34m)\u001b[0m\u001b[0;34m\u001b[0m\u001b[0;34m\u001b[0m\u001b[0m\n\u001b[0m",
            "\u001b[0;32m/usr/local/lib/python3.7/dist-packages/eleanor/source.py\u001b[0m in \u001b[0;36m__init__\u001b[0;34m(self, tic, gaia, coords, name, fn, sector, fn_dir, tc, local, post_dir, pm_dir, metadata_path, tesscut_size, tm)\u001b[0m\n\u001b[1;32m    260\u001b[0m                 \u001b[0mself\u001b[0m\u001b[0;34m.\u001b[0m\u001b[0mtess_mag\u001b[0m \u001b[0;34m=\u001b[0m \u001b[0mself\u001b[0m\u001b[0;34m.\u001b[0m\u001b[0mtess_mag\u001b[0m\u001b[0;34m[\u001b[0m\u001b[0;36m0\u001b[0m\u001b[0;34m]\u001b[0m\u001b[0;34m\u001b[0m\u001b[0;34m\u001b[0m\u001b[0m\n\u001b[1;32m    261\u001b[0m \u001b[0;34m\u001b[0m\u001b[0m\n\u001b[0;32m--> 262\u001b[0;31m             \u001b[0mself\u001b[0m\u001b[0;34m.\u001b[0m\u001b[0mlocate_on_tess\u001b[0m\u001b[0;34m(\u001b[0m\u001b[0;34m)\u001b[0m\u001b[0;34m\u001b[0m\u001b[0;34m\u001b[0m\u001b[0m\n\u001b[0m\u001b[1;32m    263\u001b[0m             \u001b[0mself\u001b[0m\u001b[0;34m.\u001b[0m\u001b[0mtesscut_size\u001b[0m \u001b[0;34m=\u001b[0m \u001b[0mtesscut_size\u001b[0m\u001b[0;34m\u001b[0m\u001b[0;34m\u001b[0m\u001b[0m\n\u001b[1;32m    264\u001b[0m \u001b[0;34m\u001b[0m\u001b[0m\n",
            "\u001b[0;32m/usr/local/lib/python3.7/dist-packages/eleanor/source.py\u001b[0m in \u001b[0;36mlocate_on_tess\u001b[0;34m(self)\u001b[0m\n\u001b[1;32m    302\u001b[0m             \u001b[0;31m# Handles cases where users can pass in their sector\u001b[0m\u001b[0;34m\u001b[0m\u001b[0;34m\u001b[0m\u001b[0;34m\u001b[0m\u001b[0m\n\u001b[1;32m    303\u001b[0m             \u001b[0;32mif\u001b[0m \u001b[0mtype\u001b[0m\u001b[0;34m(\u001b[0m\u001b[0mself\u001b[0m\u001b[0;34m.\u001b[0m\u001b[0musr_sec\u001b[0m\u001b[0;34m)\u001b[0m \u001b[0;34m==\u001b[0m \u001b[0mint\u001b[0m\u001b[0;34m:\u001b[0m\u001b[0;34m\u001b[0m\u001b[0;34m\u001b[0m\u001b[0m\n\u001b[0;32m--> 304\u001b[0;31m                 \u001b[0marg\u001b[0m \u001b[0;34m=\u001b[0m \u001b[0mnp\u001b[0m\u001b[0;34m.\u001b[0m\u001b[0margwhere\u001b[0m\u001b[0;34m(\u001b[0m\u001b[0msectors\u001b[0m \u001b[0;34m==\u001b[0m \u001b[0mself\u001b[0m\u001b[0;34m.\u001b[0m\u001b[0musr_sec\u001b[0m\u001b[0;34m)\u001b[0m\u001b[0;34m[\u001b[0m\u001b[0;36m0\u001b[0m\u001b[0;34m]\u001b[0m\u001b[0;34m\u001b[0m\u001b[0;34m\u001b[0m\u001b[0m\n\u001b[0m\u001b[1;32m    305\u001b[0m                 \u001b[0;32mif\u001b[0m \u001b[0mlen\u001b[0m\u001b[0;34m(\u001b[0m\u001b[0marg\u001b[0m\u001b[0;34m)\u001b[0m \u001b[0;34m>\u001b[0m \u001b[0;36m0\u001b[0m\u001b[0;34m:\u001b[0m\u001b[0;34m\u001b[0m\u001b[0;34m\u001b[0m\u001b[0m\n\u001b[1;32m    306\u001b[0m                     \u001b[0mself\u001b[0m\u001b[0;34m.\u001b[0m\u001b[0msector\u001b[0m \u001b[0;34m=\u001b[0m \u001b[0msectors\u001b[0m\u001b[0;34m[\u001b[0m\u001b[0marg\u001b[0m\u001b[0;34m]\u001b[0m\u001b[0;34m[\u001b[0m\u001b[0;36m0\u001b[0m\u001b[0;34m]\u001b[0m\u001b[0;34m\u001b[0m\u001b[0;34m\u001b[0m\u001b[0m\n",
            "\u001b[0;31mIndexError\u001b[0m: index 0 is out of bounds for axis 0 with size 0"
          ]
        }
      ]
    },
    {
      "cell_type": "code",
      "execution_count": 48,
      "metadata": {
        "id": "kYVzTy62Pm96",
        "outputId": "ecac9e82-57ce-44d3-bc91-6755eccfbc51",
        "colab": {
          "base_uri": "https://localhost:8080/",
          "height": 338
        }
      },
      "outputs": [
        {
          "output_type": "execute_result",
          "data": {
            "text/plain": [
              "[<matplotlib.lines.Line2D at 0x7f6c02d77250>]"
            ]
          },
          "metadata": {},
          "execution_count": 48
        },
        {
          "output_type": "display_data",
          "data": {
            "text/plain": [
              "<Figure size 1080x360 with 1 Axes>"
            ],
            "image/png": "[encoded data removed]"
          },
          "metadata": {
            "needs_background": "light"
          }
        }
      ],
      "source": [
        "plt.figure(figsize=(15,5))\n",
        "\n",
        "q = data.quality == 0\n",
        "\n",
        "plt.plot(data.time[q], data.raw_flux[q]/np.nanmedian(data.raw_flux[q]), 'k')\n",
        "plt.plot(data.time[q], data.raw_flux[q]/np.nanmean(data.raw_flux[q]), 'b')"
      ]
    }
  ],
  "metadata": {
    "anaconda-cloud": {},
    "kernelspec": {
      "display_name": "Python 3 (ipykernel)",
      "language": "python",
      "name": "python3"
    },
    "language_info": {
      "codemirror_mode": {
        "name": "ipython",
        "version": 3
      },
      "file_extension": ".py",
      "mimetype": "text/x-python",
      "name": "python",
      "nbconvert_exporter": "python",
      "pygments_lexer": "ipython3",
      "version": "3.9.7"
    },
    "colab": {
      "provenance": [],
      "collapsed_sections": [],
      "include_colab_link": true
    }
  },
  "nbformat": 4,
  "nbformat_minor": 0
}